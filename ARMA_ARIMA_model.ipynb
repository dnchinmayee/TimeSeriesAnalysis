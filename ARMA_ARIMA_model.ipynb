{
 "cells": [
  {
   "cell_type": "markdown",
   "id": "c469ea74",
   "metadata": {},
   "source": [
    "# ARMA(p,q) and ARIMA(p,d,q)"
   ]
  },
  {
   "cell_type": "code",
   "execution_count": 1,
   "id": "216e7d6e",
   "metadata": {},
   "outputs": [],
   "source": [
    "import pandas as pd\n",
    "import numpy as np\n",
    "from statsmodels.tsa.arima_model import ARMA,ARMAResults,ARIMA,ARIMAResults"
   ]
  },
  {
   "cell_type": "code",
   "execution_count": 2,
   "id": "e1a627bb",
   "metadata": {},
   "outputs": [],
   "source": [
    "import warnings\n",
    "\n",
    "warnings.filterwarnings(\"ignore\")"
   ]
  },
  {
   "cell_type": "code",
   "execution_count": 3,
   "id": "788481bc",
   "metadata": {},
   "outputs": [],
   "source": [
    "# Load datasets\n",
    "df1 = pd.read_csv(r'C:/Users/User/Downloads/UDEMY_TSA_FINAL/UDEMY_TSA_FINAL/Data/DailyTotalFemaleBirths.csv',index_col='Date',parse_dates=True)\n",
    "\n",
    "df2 = pd.read_csv(r'C:/Users/User/Downloads/UDEMY_TSA_FINAL/UDEMY_TSA_FINAL/Data/TradeInventories.csv',index_col='Date',parse_dates=True)\n"
   ]
  },
  {
   "cell_type": "code",
   "execution_count": null,
   "id": "590370a5",
   "metadata": {},
   "outputs": [],
   "source": [
    "df1.plot()\n",
    "#stationary data"
   ]
  },
  {
   "cell_type": "code",
   "execution_count": null,
   "id": "770a423b",
   "metadata": {},
   "outputs": [],
   "source": [
    "df2.plot()"
   ]
  },
  {
   "cell_type": "markdown",
   "id": "24f08c20",
   "metadata": {},
   "source": [
    "# Dickey-Fuller Test\n",
    "\n",
    "To determine if an incoming time series is stationary, let's write a function that performs the augmented Dickey-Fuller Test.\n"
   ]
  },
  {
   "cell_type": "code",
   "execution_count": 4,
   "id": "17b52d40",
   "metadata": {},
   "outputs": [],
   "source": [
    "from statsmodels.tsa.stattools import adfuller\n",
    "def adf_test(dataset):\n",
    "    result = adfuller(df1.dropna(), autolag ='AIC')\n",
    "    labels = ['ADF test statistic','p-value','# lags used','# observations']\n",
    "    out = pd.Series(result[0:4],index=labels)\n",
    "    for key,val in result[4].items():\n",
    "        out[f'critical value ({key})']=val\n",
    "        \n",
    "    print(out.to_string())\n",
    "    if result[1]<0.05:\n",
    "        print(out['p-value'])\n",
    "        print(\"data is stationary\")\n",
    "        print(\"reject Null Hypothesis\")\n",
    "        print(\"It has no unit root\")\n",
    "    else:\n",
    "        print(out['p-value'])\n",
    "        print(\"data is stationary\")\n",
    "        print(\"rejetc Null Hypothesis\")\n",
    "        print(\"It has no unit root\")\n",
    "    "
   ]
  },
  {
   "cell_type": "code",
   "execution_count": null,
   "id": "1551977c",
   "metadata": {},
   "outputs": [],
   "source": [
    "adf_test(df1['Births'])"
   ]
  },
  {
   "cell_type": "code",
   "execution_count": null,
   "id": "5028b897",
   "metadata": {},
   "outputs": [],
   "source": [
    "#let us take first 4 months of birth rates\n",
    "df1['Births'].plot(figsize=(12,5));"
   ]
  },
  {
   "cell_type": "code",
   "execution_count": null,
   "id": "ccaf6888",
   "metadata": {},
   "outputs": [],
   "source": [
    "#Using pmdarima.auto_arima, determine the(p,q) orders , ARMA\n",
    "from pmdarima import auto_arima\n",
    "auto_arima(df1['Births'], seasonal=False, m=4).summary()"
   ]
  },
  {
   "cell_type": "code",
   "execution_count": null,
   "id": "d87cc4f8",
   "metadata": {},
   "outputs": [],
   "source": [
    "#if we will check the auto_Arima() of step_wise function, we get P,D,Q and m terms are zero.Because it is a Seasonal model"
   ]
  },
  {
   "cell_type": "code",
   "execution_count": null,
   "id": "987d33d8",
   "metadata": {},
   "outputs": [],
   "source": [
    "stepwise_fit = auto_arima(df1['Births'], start_p=0, start_q=0,\n",
    "                          max_p=6, max_q=3, m=4,\n",
    "                          seasonal=False,\n",
    "                          d=None, trace=True,\n",
    "                          error_action='ignore',   # we don't want to know if an order does not work\n",
    "                          suppress_warnings=True,  # we don't want convergence warnings\n",
    "                          stepwise=True) "
   ]
  },
  {
   "cell_type": "markdown",
   "id": "81a1e263",
   "metadata": {},
   "source": [
    "# #Split the data in triain and test sets\n"
   ]
  },
  {
   "cell_type": "code",
   "execution_count": null,
   "id": "2d76b4d8",
   "metadata": {},
   "outputs": [],
   "source": [
    "train = df1.iloc[:90]\n",
    "test = df1.iloc[90:] "
   ]
  },
  {
   "cell_type": "code",
   "execution_count": null,
   "id": "47805f10",
   "metadata": {},
   "outputs": [],
   "source": [
    "train.shape,test.shape, df1.shape"
   ]
  },
  {
   "cell_type": "code",
   "execution_count": null,
   "id": "4eca343c",
   "metadata": {},
   "outputs": [],
   "source": [
    "train"
   ]
  },
  {
   "cell_type": "markdown",
   "id": "fd065220",
   "metadata": {},
   "source": [
    "# Fit an ARMA(p,q) Model"
   ]
  },
  {
   "cell_type": "code",
   "execution_count": 9,
   "id": "ca4dfe4b",
   "metadata": {},
   "outputs": [],
   "source": [
    "import statsmodels.api as sm"
   ]
  },
  {
   "cell_type": "code",
   "execution_count": null,
   "id": "fc470907",
   "metadata": {},
   "outputs": [],
   "source": [
    "model =  sm.tsa.arima.ARIMA(train['Births'],order=(1,1,1))"
   ]
  },
  {
   "cell_type": "code",
   "execution_count": null,
   "id": "d58e6b15",
   "metadata": {},
   "outputs": [],
   "source": [
    "results = model.fit()\n",
    "results.summary()"
   ]
  },
  {
   "cell_type": "code",
   "execution_count": null,
   "id": "1344a082",
   "metadata": {},
   "outputs": [],
   "source": [
    "#now calculate a month's predicted values"
   ]
  },
  {
   "cell_type": "code",
   "execution_count": null,
   "id": "0ca4dfe3",
   "metadata": {},
   "outputs": [],
   "source": [
    "start = len(train)\n",
    "end = len(train)+len(test)-1"
   ]
  },
  {
   "cell_type": "code",
   "execution_count": null,
   "id": "d9fddedf",
   "metadata": {},
   "outputs": [],
   "source": [
    "start,len(test),end"
   ]
  },
  {
   "cell_type": "code",
   "execution_count": null,
   "id": "3104e2db",
   "metadata": {},
   "outputs": [],
   "source": [
    "predictions = results.predict(start,end).rename('ARIMA(1,1,1)PREDICTIONS')"
   ]
  },
  {
   "cell_type": "code",
   "execution_count": null,
   "id": "5dab0fef",
   "metadata": {},
   "outputs": [],
   "source": [
    "df1.tail()"
   ]
  },
  {
   "cell_type": "code",
   "execution_count": null,
   "id": "2965a479",
   "metadata": {},
   "outputs": [],
   "source": [
    "predictions\n",
    "#Last 12 months prediction values"
   ]
  },
  {
   "cell_type": "markdown",
   "id": "fb288d33",
   "metadata": {},
   "source": [
    "# plot Predictions against true values for last 12 mionths data"
   ]
  },
  {
   "cell_type": "code",
   "execution_count": null,
   "id": "a7db7f5b",
   "metadata": {},
   "outputs": [],
   "source": [
    "title = 'Daily Total Female Births'\n",
    "ylabel='Births'\n",
    "xlabel=''\n",
    "\n",
    "ax = test['Births'].plot(legend=True, figsize=(12,6), title = title)\n",
    "predictions.plot(legend=True)\n",
    "ax.autoscale(axis='x',tight=True)\n",
    "ax.set(xlabel=xlabel, ylabel=ylabel)"
   ]
  },
  {
   "cell_type": "code",
   "execution_count": null,
   "id": "446517a1",
   "metadata": {},
   "outputs": [],
   "source": [
    "test.mean()"
   ]
  },
  {
   "cell_type": "code",
   "execution_count": null,
   "id": "7135c6a5",
   "metadata": {},
   "outputs": [],
   "source": [
    "predictions.mean()"
   ]
  },
  {
   "cell_type": "code",
   "execution_count": null,
   "id": "365decd5",
   "metadata": {},
   "outputs": [],
   "source": [
    "#The above result shows quite close to each other.  In the next section we'll take additional steps to evaluate the performance of our predictions, and forecast into the future.\n"
   ]
  },
  {
   "cell_type": "markdown",
   "id": "57d669cc",
   "metadata": {},
   "source": [
    "# Seasonal model"
   ]
  }
 ],
 "metadata": {
  "kernelspec": {
   "display_name": "Python 3 (ipykernel)",
   "language": "python",
   "name": "python3"
  },
  "language_info": {
   "codemirror_mode": {
    "name": "ipython",
    "version": 3
   },
   "file_extension": ".py",
   "mimetype": "text/x-python",
   "name": "python",
   "nbconvert_exporter": "python",
   "pygments_lexer": "ipython3",
   "version": "3.9.5"
  }
 },
 "nbformat": 4,
 "nbformat_minor": 5
}
