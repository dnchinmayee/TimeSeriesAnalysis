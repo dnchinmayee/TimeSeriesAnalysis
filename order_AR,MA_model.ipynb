{
 "cells": [
  {
   "cell_type": "markdown",
   "id": "c7bcc693",
   "metadata": {},
   "source": [
    "# How to get order of ARIMA models. \n",
    "p,d,q shows the order of AR and MA model for Stationary data(seasonal=False)\n",
    "For seasonal data(seasonal=True) P,D,Q factors do we use.\n",
    "This document shows : to find the order of p,d,q factors in two cases: \n",
    "            seasonal data\n",
    "            stationary data"
   ]
  },
  {
   "cell_type": "code",
   "execution_count": 1,
   "id": "f165389f",
   "metadata": {},
   "outputs": [],
   "source": [
    "import pandas as pd\n",
    "import numpy as np\n",
    "%matplotlib inline\n",
    "\n",
    "# Load a non-stationary dataset\n",
    "df1 = pd.read_csv(r'C:/Users/User/Downloads/UDEMY_TSA_FINAL/UDEMY_TSA_FINAL/Data/airline_passengers.csv',index_col='Month',parse_dates=True)\n",
    "#df1.index.freq = 'MS'\n",
    "\n",
    "# Load a stationary dataset\n",
    "df2 = pd.read_csv(r'C:/Users/User/Downloads/UDEMY_TSA_FINAL/UDEMY_TSA_FINAL/Data/DailyTotalFemaleBirths.csv',index_col='Date',parse_dates=True)\n",
    "#df2.index.freq = 'D'\n",
    " "
   ]
  },
  {
   "cell_type": "code",
   "execution_count": 2,
   "id": "6578b6e2",
   "metadata": {},
   "outputs": [
    {
     "data": {
      "text/html": [
       "<div>\n",
       "<style scoped>\n",
       "    .dataframe tbody tr th:only-of-type {\n",
       "        vertical-align: middle;\n",
       "    }\n",
       "\n",
       "    .dataframe tbody tr th {\n",
       "        vertical-align: top;\n",
       "    }\n",
       "\n",
       "    .dataframe thead th {\n",
       "        text-align: right;\n",
       "    }\n",
       "</style>\n",
       "<table border=\"1\" class=\"dataframe\">\n",
       "  <thead>\n",
       "    <tr style=\"text-align: right;\">\n",
       "      <th></th>\n",
       "      <th>Thousands of Passengers</th>\n",
       "    </tr>\n",
       "    <tr>\n",
       "      <th>Month</th>\n",
       "      <th></th>\n",
       "    </tr>\n",
       "  </thead>\n",
       "  <tbody>\n",
       "    <tr>\n",
       "      <th>1949-01-01</th>\n",
       "      <td>112</td>\n",
       "    </tr>\n",
       "    <tr>\n",
       "      <th>1949-02-01</th>\n",
       "      <td>118</td>\n",
       "    </tr>\n",
       "    <tr>\n",
       "      <th>1949-03-01</th>\n",
       "      <td>132</td>\n",
       "    </tr>\n",
       "    <tr>\n",
       "      <th>1949-04-01</th>\n",
       "      <td>129</td>\n",
       "    </tr>\n",
       "    <tr>\n",
       "      <th>1949-05-01</th>\n",
       "      <td>121</td>\n",
       "    </tr>\n",
       "  </tbody>\n",
       "</table>\n",
       "</div>"
      ],
      "text/plain": [
       "            Thousands of Passengers\n",
       "Month                              \n",
       "1949-01-01                      112\n",
       "1949-02-01                      118\n",
       "1949-03-01                      132\n",
       "1949-04-01                      129\n",
       "1949-05-01                      121"
      ]
     },
     "execution_count": 2,
     "metadata": {},
     "output_type": "execute_result"
    }
   ],
   "source": [
    "df1.head()"
   ]
  },
  {
   "cell_type": "code",
   "execution_count": 3,
   "id": "e7df193b",
   "metadata": {},
   "outputs": [
    {
     "data": {
      "text/html": [
       "<div>\n",
       "<style scoped>\n",
       "    .dataframe tbody tr th:only-of-type {\n",
       "        vertical-align: middle;\n",
       "    }\n",
       "\n",
       "    .dataframe tbody tr th {\n",
       "        vertical-align: top;\n",
       "    }\n",
       "\n",
       "    .dataframe thead th {\n",
       "        text-align: right;\n",
       "    }\n",
       "</style>\n",
       "<table border=\"1\" class=\"dataframe\">\n",
       "  <thead>\n",
       "    <tr style=\"text-align: right;\">\n",
       "      <th></th>\n",
       "      <th>Births</th>\n",
       "    </tr>\n",
       "    <tr>\n",
       "      <th>Date</th>\n",
       "      <th></th>\n",
       "    </tr>\n",
       "  </thead>\n",
       "  <tbody>\n",
       "    <tr>\n",
       "      <th>1959-01-01</th>\n",
       "      <td>35</td>\n",
       "    </tr>\n",
       "    <tr>\n",
       "      <th>1959-01-02</th>\n",
       "      <td>32</td>\n",
       "    </tr>\n",
       "    <tr>\n",
       "      <th>1959-01-03</th>\n",
       "      <td>30</td>\n",
       "    </tr>\n",
       "    <tr>\n",
       "      <th>1959-01-04</th>\n",
       "      <td>31</td>\n",
       "    </tr>\n",
       "    <tr>\n",
       "      <th>1959-01-05</th>\n",
       "      <td>44</td>\n",
       "    </tr>\n",
       "  </tbody>\n",
       "</table>\n",
       "</div>"
      ],
      "text/plain": [
       "            Births\n",
       "Date              \n",
       "1959-01-01      35\n",
       "1959-01-02      32\n",
       "1959-01-03      30\n",
       "1959-01-04      31\n",
       "1959-01-05      44"
      ]
     },
     "execution_count": 3,
     "metadata": {},
     "output_type": "execute_result"
    }
   ],
   "source": [
    "df2.head()"
   ]
  },
  {
   "cell_type": "code",
   "execution_count": 17,
   "id": "48e4cb3b",
   "metadata": {},
   "outputs": [],
   "source": [
    "from pmdarima import auto_arima\n",
    "import warnings\n",
    "warnings.filterwarnings(\"ignore\")\n"
   ]
  },
  {
   "cell_type": "code",
   "execution_count": 16,
   "id": "0a54570b",
   "metadata": {},
   "outputs": [
    {
     "name": "stdout",
     "output_type": "stream",
     "text": [
      "Collecting pmdarima\n",
      "  Downloading pmdarima-1.8.4-cp39-cp39-win_amd64.whl (600 kB)\n",
      "Collecting Cython!=0.29.18,>=0.29\n",
      "  Downloading Cython-0.29.26-py2.py3-none-any.whl (983 kB)\n",
      "Requirement already satisfied: setuptools!=50.0.0,>=38.6.0 in c:\\users\\user\\miniconda3\\lib\\site-packages (from pmdarima) (52.0.0.post20210125)\n",
      "Requirement already satisfied: statsmodels!=0.12.0,>=0.11 in c:\\users\\user\\miniconda3\\lib\\site-packages (from pmdarima) (0.13.0)\n",
      "Requirement already satisfied: numpy>=1.19.3 in c:\\users\\user\\miniconda3\\lib\\site-packages (from pmdarima) (1.21.2)\n",
      "Requirement already satisfied: urllib3 in c:\\users\\user\\miniconda3\\lib\\site-packages (from pmdarima) (1.26.6)\n",
      "Requirement already satisfied: joblib>=0.11 in c:\\users\\user\\miniconda3\\lib\\site-packages (from pmdarima) (1.1.0)\n",
      "Requirement already satisfied: pandas>=0.19 in c:\\users\\user\\miniconda3\\lib\\site-packages (from pmdarima) (1.3.4)\n",
      "Requirement already satisfied: scikit-learn>=0.22 in c:\\users\\user\\miniconda3\\lib\\site-packages (from pmdarima) (1.0.1)\n",
      "Requirement already satisfied: scipy>=1.3.2 in c:\\users\\user\\miniconda3\\lib\\site-packages (from pmdarima) (1.7.1)\n",
      "Requirement already satisfied: pytz>=2017.3 in c:\\users\\user\\miniconda3\\lib\\site-packages (from pandas>=0.19->pmdarima) (2021.3)\n",
      "Requirement already satisfied: python-dateutil>=2.7.3 in c:\\users\\user\\miniconda3\\lib\\site-packages (from pandas>=0.19->pmdarima) (2.8.2)\n",
      "Requirement already satisfied: six>=1.5 in c:\\users\\user\\miniconda3\\lib\\site-packages (from python-dateutil>=2.7.3->pandas>=0.19->pmdarima) (1.16.0)\n",
      "Requirement already satisfied: threadpoolctl>=2.0.0 in c:\\users\\user\\miniconda3\\lib\\site-packages (from scikit-learn>=0.22->pmdarima) (2.2.0)\n",
      "Requirement already satisfied: patsy>=0.5.2 in c:\\users\\user\\miniconda3\\lib\\site-packages (from statsmodels!=0.12.0,>=0.11->pmdarima) (0.5.2)\n",
      "Installing collected packages: Cython, pmdarima\n",
      "Successfully installed Cython-0.29.26 pmdarima-1.8.4\n"
     ]
    }
   ],
   "source": [
    "!pip install pmdarima"
   ]
  },
  {
   "cell_type": "code",
   "execution_count": 18,
   "id": "10927ca2",
   "metadata": {},
   "outputs": [
    {
     "name": "stdout",
     "output_type": "stream",
     "text": [
      "Help on function auto_arima in module pmdarima.arima.auto:\n",
      "\n",
      "auto_arima(y, X=None, start_p=2, d=None, start_q=2, max_p=5, max_d=2, max_q=5, start_P=1, D=None, start_Q=1, max_P=2, max_D=1, max_Q=2, max_order=5, m=1, seasonal=True, stationary=False, information_criterion='aic', alpha=0.05, test='kpss', seasonal_test='ocsb', stepwise=True, n_jobs=1, start_params=None, trend=None, method='lbfgs', maxiter=50, offset_test_args=None, seasonal_test_args=None, suppress_warnings=True, error_action='trace', trace=False, random=False, random_state=None, n_fits=10, return_valid_fits=False, out_of_sample_size=0, scoring='mse', scoring_args=None, with_intercept='auto', sarimax_kwargs=None, **fit_args)\n",
      "    Automatically discover the optimal order for an ARIMA model.\n",
      "    \n",
      "    The auto-ARIMA process seeks to identify the most optimal\n",
      "    parameters for an ``ARIMA`` model, settling on a single fitted ARIMA model.\n",
      "    This process is based on the commonly-used R function,\n",
      "    ``forecast::auto.arima`` [3].\n",
      "    \n",
      "    Auto-ARIMA works by conducting differencing tests (i.e.,\n",
      "    Kwiatkowski–Phillips–Schmidt–Shin, Augmented Dickey-Fuller or\n",
      "    Phillips–Perron) to determine the order of differencing, ``d``, and then\n",
      "    fitting models within ranges of defined ``start_p``, ``max_p``,\n",
      "    ``start_q``, ``max_q`` ranges. If the ``seasonal`` optional is enabled,\n",
      "    auto-ARIMA also seeks to identify the optimal ``P`` and ``Q`` hyper-\n",
      "    parameters after conducting the Canova-Hansen to determine the optimal\n",
      "    order of seasonal differencing, ``D``.\n",
      "    \n",
      "    In order to find the best model, auto-ARIMA optimizes for a given\n",
      "    ``information_criterion``, one of ('aic', 'aicc', 'bic', 'hqic', 'oob')\n",
      "    (Akaike Information Criterion, Corrected Akaike Information Criterion,\n",
      "    Bayesian Information Criterion, Hannan-Quinn Information Criterion, or\n",
      "    \"out of bag\"--for validation scoring--respectively) and returns the ARIMA\n",
      "    which minimizes the value.\n",
      "    \n",
      "    Note that due to stationarity issues, auto-ARIMA might not find a\n",
      "    suitable model that will converge. If this is the case, a ``ValueError``\n",
      "    will be thrown suggesting stationarity-inducing measures be taken prior\n",
      "    to re-fitting or that a new range of ``order`` values be selected. Non-\n",
      "    stepwise (i.e., essentially a grid search) selection can be slow,\n",
      "    especially for seasonal data. Stepwise algorithm is outlined in Hyndman and\n",
      "    Khandakar (2008).\n",
      "    \n",
      "    Parameters\n",
      "    ----------\n",
      "    y : array-like or iterable, shape=(n_samples,)\n",
      "        The time-series to which to fit the ``ARIMA`` estimator. This may\n",
      "        either be a Pandas ``Series`` object (statsmodels can internally\n",
      "        use the dates in the index), or a numpy array. This should be a\n",
      "        one-dimensional array of floats, and should not contain any\n",
      "        ``np.nan`` or ``np.inf`` values.\n",
      "    \n",
      "    X : array-like, shape=[n_obs, n_vars], optional (default=None)\n",
      "        An optional 2-d array of exogenous variables. If provided, these\n",
      "        variables are used as additional features in the regression\n",
      "        operation. This should not include a constant or trend. Note that\n",
      "        if an ``ARIMA`` is fit on exogenous features, it must be provided\n",
      "        exogenous features for making predictions.\n",
      "    \n",
      "    start_p : int, optional (default=2)\n",
      "        The starting value of ``p``, the order (or number of time lags)\n",
      "        of the auto-regressive (\"AR\") model. Must be a positive integer.\n",
      "    \n",
      "    d : int, optional (default=None)\n",
      "        The order of first-differencing. If None (by default), the value\n",
      "        will automatically be selected based on the results of the ``test``\n",
      "        (i.e., either the Kwiatkowski–Phillips–Schmidt–Shin, Augmented\n",
      "        Dickey-Fuller or the Phillips–Perron test will be conducted to find\n",
      "        the most probable value). Must be a positive integer or None. Note\n",
      "        that if ``d`` is None, the runtime could be significantly longer.\n",
      "    \n",
      "    start_q : int, optional (default=2)\n",
      "        The starting value of ``q``, the order of the moving-average\n",
      "        (\"MA\") model. Must be a positive integer.\n",
      "    \n",
      "    max_p : int, optional (default=5)\n",
      "        The maximum value of ``p``, inclusive. Must be a positive integer\n",
      "        greater than or equal to ``start_p``.\n",
      "    \n",
      "    max_d : int, optional (default=2)\n",
      "        The maximum value of ``d``, or the maximum number of non-seasonal\n",
      "        differences. Must be a positive integer greater than or equal to ``d``.\n",
      "    \n",
      "    max_q : int, optional (default=5)\n",
      "        The maximum value of ``q``, inclusive. Must be a positive integer\n",
      "        greater than ``start_q``.\n",
      "    \n",
      "    start_P : int, optional (default=1)\n",
      "        The starting value of ``P``, the order of the auto-regressive portion\n",
      "        of the seasonal model.\n",
      "    \n",
      "    D : int, optional (default=None)\n",
      "        The order of the seasonal differencing. If None (by default, the value\n",
      "        will automatically be selected based on the results of the\n",
      "        ``seasonal_test``. Must be a positive integer or None.\n",
      "    \n",
      "    start_Q : int, optional (default=1)\n",
      "        The starting value of ``Q``, the order of the moving-average portion\n",
      "        of the seasonal model.\n",
      "    \n",
      "    max_P : int, optional (default=2)\n",
      "        The maximum value of ``P``, inclusive. Must be a positive integer\n",
      "        greater than ``start_P``.\n",
      "    \n",
      "    max_D : int, optional (default=1)\n",
      "        The maximum value of ``D``. Must be a positive integer greater\n",
      "        than ``D``.\n",
      "    \n",
      "    max_Q : int, optional (default=2)\n",
      "        The maximum value of ``Q``, inclusive. Must be a positive integer\n",
      "        greater than ``start_Q``.\n",
      "    \n",
      "    max_order : int, optional (default=5)\n",
      "        Maximum value of p+q+P+Q if model selection is not stepwise.\n",
      "        If the sum of ``p`` and ``q`` is >= ``max_order``, a model will\n",
      "        *not* be fit with those parameters, but will progress to the next\n",
      "        combination. Default is 5. If ``max_order`` is None, it means there\n",
      "        are no constraints on maximum order.\n",
      "    \n",
      "    m : int, optional (default=1)\n",
      "        The period for seasonal differencing, ``m`` refers to the number of\n",
      "        periods in each season. For example, ``m`` is 4 for quarterly data, 12\n",
      "        for monthly data, or 1 for annual (non-seasonal) data. Default is 1.\n",
      "        Note that if ``m`` == 1 (i.e., is non-seasonal), ``seasonal`` will be\n",
      "        set to False. For more information on setting this parameter, see\n",
      "        :ref:`period`.\n",
      "    \n",
      "    seasonal : bool, optional (default=True)\n",
      "        Whether to fit a seasonal ARIMA. Default is True. Note that if\n",
      "        ``seasonal`` is True and ``m`` == 1, ``seasonal`` will be set to False.\n",
      "    \n",
      "    stationary : bool, optional (default=False)\n",
      "        Whether the time-series is stationary and ``d`` should be set to zero.\n",
      "    \n",
      "    information_criterion : str, optional (default='aic')\n",
      "        The information criterion used to select the best ARIMA model. One of\n",
      "        ``pmdarima.arima.auto_arima.VALID_CRITERIA``, ('aic', 'bic', 'hqic',\n",
      "        'oob').\n",
      "    \n",
      "    alpha : float, optional (default=0.05)\n",
      "        Level of the test for testing significance.\n",
      "    \n",
      "    test : str, optional (default='kpss')\n",
      "        Type of unit root test to use in order to detect stationarity if\n",
      "        ``stationary`` is False and ``d`` is None. Default is 'kpss'\n",
      "        (Kwiatkowski–Phillips–Schmidt–Shin).\n",
      "    \n",
      "    seasonal_test : str, optional (default='ocsb')\n",
      "        This determines which seasonal unit root test is used if ``seasonal``\n",
      "        is True and ``D`` is None. Default is 'OCSB'.\n",
      "    \n",
      "    stepwise : bool, optional (default=True)\n",
      "        Whether to use the stepwise algorithm outlined in Hyndman and Khandakar\n",
      "        (2008) to identify the optimal model parameters. The stepwise algorithm\n",
      "        can be significantly faster than fitting all (or a ``random`` subset\n",
      "        of) hyper-parameter combinations and is less likely to over-fit\n",
      "        the model.\n",
      "    \n",
      "    n_jobs : int, optional (default=1)\n",
      "        The number of models to fit in parallel in the case of a grid search\n",
      "        (``stepwise=False``). Default is 1, but -1 can be used to designate\n",
      "        \"as many as possible\".\n",
      "    \n",
      "    start_params : array-like, optional (default=None)\n",
      "        Starting parameters for ``ARMA(p,q)``.  If None, the default is given\n",
      "        by ``ARMA._fit_start_params``.\n",
      "    \n",
      "    method : str, optional (default='lbfgs')\n",
      "        The ``method`` determines which solver from ``scipy.optimize``\n",
      "        is used, and it can be chosen from among the following strings:\n",
      "    \n",
      "        - 'newton' for Newton-Raphson\n",
      "        - 'nm' for Nelder-Mead\n",
      "        - 'bfgs' for Broyden-Fletcher-Goldfarb-Shanno (BFGS)\n",
      "        - 'lbfgs' for limited-memory BFGS with optional box constraints\n",
      "        - 'powell' for modified Powell's method\n",
      "        - 'cg' for conjugate gradient\n",
      "        - 'ncg' for Newton-conjugate gradient\n",
      "        - 'basinhopping' for global basin-hopping solver\n",
      "    \n",
      "        The explicit arguments in ``fit`` are passed to the solver,\n",
      "        with the exception of the basin-hopping solver. Each\n",
      "        solver has several optional arguments that are not the same across\n",
      "        solvers. These can be passed as **fit_kwargs\n",
      "    \n",
      "    trend : str or None, optional (default=None)\n",
      "        The trend parameter. If ``with_intercept`` is True, ``trend`` will be\n",
      "        used. If ``with_intercept`` is False, the trend will be set to a no-\n",
      "        intercept value.\n",
      "    \n",
      "    maxiter : int, optional (default=50)\n",
      "        The maximum number of function evaluations. Default is 50.\n",
      "    \n",
      "    offset_test_args : dict, optional (default=None)\n",
      "        The args to pass to the constructor of the offset (``d``) test. See\n",
      "        ``pmdarima.arima.stationarity`` for more details.\n",
      "    \n",
      "    seasonal_test_args : dict, optional (default=None)\n",
      "        The args to pass to the constructor of the seasonal offset (``D``)\n",
      "        test. See ``pmdarima.arima.seasonality`` for more details.\n",
      "    \n",
      "    suppress_warnings : bool, optional (default=True)\n",
      "        Many warnings might be thrown inside of statsmodels. If\n",
      "        ``suppress_warnings`` is True, all of the warnings coming from\n",
      "        ``ARIMA`` will be squelched. Note that this will not suppress\n",
      "        UserWarnings created by bad argument combinations.\n",
      "    \n",
      "    error_action : str, optional (default='warn')\n",
      "        If unable to fit an ``ARIMA`` for whatever reason, this controls the\n",
      "        error-handling behavior. Model fits can fail for linear algebra errors,\n",
      "        convergence errors, or any number of problems related to stationarity\n",
      "        or input data.\n",
      "            - 'warn': Warns when an error is encountered (default)\n",
      "            - 'raise': Raises when an error is encountered\n",
      "            - 'ignore': Ignores errors (not recommended)\n",
      "            - 'trace': Logs the entire error stacktrace and continues the\n",
      "               search. This is the best option when trying to determine why a\n",
      "               model is failing.\n",
      "    \n",
      "    trace : bool or int, optional (default=False)\n",
      "        Whether to print status on the fits. A value of False will print no\n",
      "        debugging information. A value of True will print some. Integer values\n",
      "        exceeding 1 will print increasing amounts of debug information at each\n",
      "        fit.\n",
      "    \n",
      "    random : bool, optional (default=False)\n",
      "        Similar to grid searches, ``auto_arima`` provides the capability to\n",
      "        perform a \"random search\" over a hyper-parameter space. If ``random``\n",
      "        is True, rather than perform an exhaustive search or ``stepwise``\n",
      "        search, only ``n_fits`` ARIMA models will be fit (``stepwise`` must be\n",
      "        False for this option to do anything).\n",
      "    \n",
      "    random_state : int, long or numpy ``RandomState``, optional (default=None)\n",
      "        The PRNG for when ``random=True``. Ensures replicable testing and\n",
      "        results.\n",
      "    \n",
      "    n_fits : int, optional (default=10)\n",
      "        If ``random`` is True and a \"random search\" is going to be performed,\n",
      "        ``n_iter`` is the number of ARIMA models to be fit.\n",
      "    \n",
      "    return_valid_fits : bool, optional (default=False)\n",
      "        If True, will return all valid ARIMA fits in a list. If False (by\n",
      "        default), will only return the best fit.\n",
      "    \n",
      "    out_of_sample_size : int, optional (default=0)\n",
      "        The ``ARIMA`` class can fit only a portion of the data if specified,\n",
      "        in order to retain an \"out of bag\" sample score. This is the\n",
      "        number of examples from the tail of the time series to hold out\n",
      "        and use as validation examples. The model will not be fit on these\n",
      "        samples, but the observations will be added into the model's ``endog``\n",
      "        and ``exog`` arrays so that future forecast values originate from the\n",
      "        end of the endogenous vector.\n",
      "    \n",
      "        For instance::\n",
      "    \n",
      "            y = [0, 1, 2, 3, 4, 5, 6]\n",
      "            out_of_sample_size = 2\n",
      "    \n",
      "            > Fit on: [0, 1, 2, 3, 4]\n",
      "            > Score on: [5, 6]\n",
      "            > Append [5, 6] to end of self.arima_res_.data.endog values\n",
      "    \n",
      "    scoring : str, optional (default='mse')\n",
      "        If performing validation (i.e., if ``out_of_sample_size`` > 0), the\n",
      "        metric to use for scoring the out-of-sample data. One of ('mse', 'mae')\n",
      "    \n",
      "    scoring_args : dict, optional (default=None)\n",
      "        A dictionary of key-word arguments to be passed to the ``scoring``\n",
      "        metric.\n",
      "    \n",
      "    with_intercept : bool or str, optional (default=\"auto\")\n",
      "        Whether to include an intercept term. Default is \"auto\" which behaves\n",
      "        like True until a point in the search where the sum of differencing\n",
      "        terms will explicitly set it to True or False.\n",
      "    \n",
      "    \n",
      "    sarimax_kwargs : dict or None, optional (default=None)\n",
      "        Keyword arguments to pass to the ARIMA constructor.\n",
      "    \n",
      "    \n",
      "    **fit_args : dict, optional (default=None)\n",
      "        A dictionary of keyword arguments to pass to the :func:`ARIMA.fit`\n",
      "        method.\n",
      "    \n",
      "    See Also\n",
      "    --------\n",
      "    :func:`pmdarima.arima.ARIMA`\n",
      "    \n",
      "    Notes\n",
      "    -----\n",
      "    * Fitting with `stepwise=False` can prove slower, especially when\n",
      "      `seasonal=True`.\n",
      "    \n",
      "    References\n",
      "    ----------\n",
      "    .. [1] https://wikipedia.org/wiki/Autoregressive_integrated_moving_average\n",
      "    .. [2] R's auto-arima source code: https://github.com/robjhyndman/forecast/blob/master/R/arima.R\n",
      "    .. [3] R's auto-arima documentation: https://www.rdocumentation.org/packages/forecast\n",
      "\n"
     ]
    }
   ],
   "source": [
    "help(auto_arima)"
   ]
  },
  {
   "cell_type": "code",
   "execution_count": 5,
   "id": "449226c3",
   "metadata": {},
   "outputs": [
    {
     "data": {
      "text/plain": [
       "<AxesSubplot:xlabel='Month'>"
      ]
     },
     "execution_count": 5,
     "metadata": {},
     "output_type": "execute_result"
    },
    {
     "data": {
      "image/png": "[encoded data removed]",
      "text/plain": [
       "<Figure size 432x288 with 1 Axes>"
      ]
     },
     "metadata": {
      "needs_background": "light"
     },
     "output_type": "display_data"
    }
   ],
   "source": [
    "df1.plot()"
   ]
  },
  {
   "cell_type": "code",
   "execution_count": 6,
   "id": "f7432e5f",
   "metadata": {},
   "outputs": [
    {
     "data": {
      "text/plain": [
       "<AxesSubplot:xlabel='Date'>"
      ]
     },
     "execution_count": 6,
     "metadata": {},
     "output_type": "execute_result"
    },
    {
     "data": {
      "image/png": "[encoded data removed]",
      "text/plain": [
       "<Figure size 432x288 with 1 Axes>"
      ]
     },
     "metadata": {
      "needs_background": "light"
     },
     "output_type": "display_data"
    }
   ],
   "source": [
    "df2.plot()"
   ]
  },
  {
   "cell_type": "markdown",
   "id": "43d3b7cb",
   "metadata": {},
   "source": [
    "# check first at Stationary data(Non seasonal case)"
   ]
  },
  {
   "cell_type": "code",
   "execution_count": 19,
   "id": "a5f8b555",
   "metadata": {},
   "outputs": [
    {
     "data": {
      "text/plain": [
       "Index(['Births'], dtype='object')"
      ]
     },
     "execution_count": 19,
     "metadata": {},
     "output_type": "execute_result"
    }
   ],
   "source": [
    "df2.columns"
   ]
  },
  {
   "cell_type": "code",
   "execution_count": 21,
   "id": "a68c20a8",
   "metadata": {},
   "outputs": [
    {
     "data": {
      "text/html": [
       "<table class=\"simpletable\">\n",
       "<caption>SARIMAX Results</caption>\n",
       "<tr>\n",
       "  <th>Dep. Variable:</th>           <td>y</td>        <th>  No. Observations:  </th>    <td>365</td>   \n",
       "</tr>\n",
       "<tr>\n",
       "  <th>Model:</th>           <td>SARIMAX(1, 1, 1)</td> <th>  Log Likelihood     </th> <td>-1226.537</td>\n",
       "</tr>\n",
       "<tr>\n",
       "  <th>Date:</th>            <td>Wed, 19 Jan 2022</td> <th>  AIC                </th> <td>2459.074</td> \n",
       "</tr>\n",
       "<tr>\n",
       "  <th>Time:</th>                <td>19:32:42</td>     <th>  BIC                </th> <td>2470.766</td> \n",
       "</tr>\n",
       "<tr>\n",
       "  <th>Sample:</th>                  <td>0</td>        <th>  HQIC               </th> <td>2463.721</td> \n",
       "</tr>\n",
       "<tr>\n",
       "  <th></th>                      <td> - 365</td>      <th>                     </th>     <td> </td>    \n",
       "</tr>\n",
       "<tr>\n",
       "  <th>Covariance Type:</th>        <td>opg</td>       <th>                     </th>     <td> </td>    \n",
       "</tr>\n",
       "</table>\n",
       "<table class=\"simpletable\">\n",
       "<tr>\n",
       "     <td></td>       <th>coef</th>     <th>std err</th>      <th>z</th>      <th>P>|z|</th>  <th>[0.025</th>    <th>0.975]</th>  \n",
       "</tr>\n",
       "<tr>\n",
       "  <th>ar.L1</th>  <td>    0.1252</td> <td>    0.060</td> <td>    2.097</td> <td> 0.036</td> <td>    0.008</td> <td>    0.242</td>\n",
       "</tr>\n",
       "<tr>\n",
       "  <th>ma.L1</th>  <td>   -0.9624</td> <td>    0.017</td> <td>  -56.429</td> <td> 0.000</td> <td>   -0.996</td> <td>   -0.929</td>\n",
       "</tr>\n",
       "<tr>\n",
       "  <th>sigma2</th> <td>   49.1512</td> <td>    3.250</td> <td>   15.122</td> <td> 0.000</td> <td>   42.781</td> <td>   55.522</td>\n",
       "</tr>\n",
       "</table>\n",
       "<table class=\"simpletable\">\n",
       "<tr>\n",
       "  <th>Ljung-Box (L1) (Q):</th>     <td>0.04</td> <th>  Jarque-Bera (JB):  </th> <td>25.33</td>\n",
       "</tr>\n",
       "<tr>\n",
       "  <th>Prob(Q):</th>                <td>0.84</td> <th>  Prob(JB):          </th> <td>0.00</td> \n",
       "</tr>\n",
       "<tr>\n",
       "  <th>Heteroskedasticity (H):</th> <td>0.96</td> <th>  Skew:              </th> <td>0.57</td> \n",
       "</tr>\n",
       "<tr>\n",
       "  <th>Prob(H) (two-sided):</th>    <td>0.81</td> <th>  Kurtosis:          </th> <td>3.60</td> \n",
       "</tr>\n",
       "</table><br/><br/>Warnings:<br/>[1] Covariance matrix calculated using the outer product of gradients (complex-step)."
      ],
      "text/plain": [
       "<class 'statsmodels.iolib.summary.Summary'>\n",
       "\"\"\"\n",
       "                               SARIMAX Results                                \n",
       "==============================================================================\n",
       "Dep. Variable:                      y   No. Observations:                  365\n",
       "Model:               SARIMAX(1, 1, 1)   Log Likelihood               -1226.537\n",
       "Date:                Wed, 19 Jan 2022   AIC                           2459.074\n",
       "Time:                        19:32:42   BIC                           2470.766\n",
       "Sample:                             0   HQIC                          2463.721\n",
       "                                - 365                                         \n",
       "Covariance Type:                  opg                                         \n",
       "==============================================================================\n",
       "                 coef    std err          z      P>|z|      [0.025      0.975]\n",
       "------------------------------------------------------------------------------\n",
       "ar.L1          0.1252      0.060      2.097      0.036       0.008       0.242\n",
       "ma.L1         -0.9624      0.017    -56.429      0.000      -0.996      -0.929\n",
       "sigma2        49.1512      3.250     15.122      0.000      42.781      55.522\n",
       "===================================================================================\n",
       "Ljung-Box (L1) (Q):                   0.04   Jarque-Bera (JB):                25.33\n",
       "Prob(Q):                              0.84   Prob(JB):                         0.00\n",
       "Heteroskedasticity (H):               0.96   Skew:                             0.57\n",
       "Prob(H) (two-sided):                  0.81   Kurtosis:                         3.60\n",
       "===================================================================================\n",
       "\n",
       "Warnings:\n",
       "[1] Covariance matrix calculated using the outer product of gradients (complex-step).\n",
       "\"\"\""
      ]
     },
     "execution_count": 21,
     "metadata": {},
     "output_type": "execute_result"
    }
   ],
   "source": [
    "auto_arima(df2['Births']).summary()"
   ]
  },
  {
   "cell_type": "code",
   "execution_count": null,
   "id": "5aa71482",
   "metadata": {},
   "outputs": [],
   "source": [
    "#This shows (p,d,q) components of ARIMA with no seaonal-order components. Let's try with the order 'm' values with 4,12 or for 1 year"
   ]
  },
  {
   "cell_type": "code",
   "execution_count": 29,
   "id": "6e2479f7",
   "metadata": {},
   "outputs": [
    {
     "name": "stdout",
     "output_type": "stream",
     "text": [
      "Performing stepwise search to minimize aic\n",
      " ARIMA(0,1,0)(0,0,0)[0] intercept   : AIC=2650.760, Time=0.02 sec\n",
      " ARIMA(1,1,0)(0,0,0)[0] intercept   : AIC=2565.234, Time=0.08 sec\n",
      " ARIMA(0,1,1)(0,0,0)[0] intercept   : AIC=2463.584, Time=0.13 sec\n",
      " ARIMA(0,1,0)(0,0,0)[0]             : AIC=2648.768, Time=0.01 sec\n",
      " ARIMA(1,1,1)(0,0,0)[0] intercept   : AIC=2460.154, Time=0.22 sec\n",
      " ARIMA(2,1,1)(0,0,0)[0] intercept   : AIC=2461.271, Time=0.32 sec\n",
      " ARIMA(1,1,2)(0,0,0)[0] intercept   : AIC=inf, Time=0.59 sec\n",
      " ARIMA(0,1,2)(0,0,0)[0] intercept   : AIC=2460.722, Time=0.20 sec\n",
      " ARIMA(2,1,0)(0,0,0)[0] intercept   : AIC=2536.154, Time=0.21 sec\n",
      " ARIMA(2,1,2)(0,0,0)[0] intercept   : AIC=2462.992, Time=0.67 sec\n",
      " ARIMA(1,1,1)(0,0,0)[0]             : AIC=2459.074, Time=0.07 sec\n",
      " ARIMA(0,1,1)(0,0,0)[0]             : AIC=2462.221, Time=0.03 sec\n",
      " ARIMA(1,1,0)(0,0,0)[0]             : AIC=2563.261, Time=0.03 sec\n",
      " ARIMA(2,1,1)(0,0,0)[0]             : AIC=2460.367, Time=0.12 sec\n",
      " ARIMA(1,1,2)(0,0,0)[0]             : AIC=2460.427, Time=0.26 sec\n",
      " ARIMA(0,1,2)(0,0,0)[0]             : AIC=2459.571, Time=0.07 sec\n",
      " ARIMA(2,1,0)(0,0,0)[0]             : AIC=2534.205, Time=0.05 sec\n",
      " ARIMA(2,1,2)(0,0,0)[0]             : AIC=2462.366, Time=0.34 sec\n",
      "\n",
      "Best model:  ARIMA(1,1,1)(0,0,0)[0]          \n",
      "Total fit time: 3.426 seconds\n"
     ]
    }
   ],
   "source": [
    "stepwise_fit = auto_arima(df2['Births'], start_p=0, start_q=0,\n",
    "                          max_p=6, max_q=3, m=12,\n",
    "                          seasonal=False,\n",
    "                          d=None, trace=True,\n",
    "                          error_action='ignore',   # we don't want to know if an order does not work\n",
    "                          suppress_warnings=True,  # we don't want convergence warnings\n",
    "                          stepwise=True) "
   ]
  },
  {
   "cell_type": "code",
   "execution_count": 30,
   "id": "30347a16",
   "metadata": {},
   "outputs": [
    {
     "data": {
      "text/html": [
       "<table class=\"simpletable\">\n",
       "<caption>SARIMAX Results</caption>\n",
       "<tr>\n",
       "  <th>Dep. Variable:</th>           <td>y</td>        <th>  No. Observations:  </th>    <td>365</td>   \n",
       "</tr>\n",
       "<tr>\n",
       "  <th>Model:</th>           <td>SARIMAX(1, 1, 1)</td> <th>  Log Likelihood     </th> <td>-1226.537</td>\n",
       "</tr>\n",
       "<tr>\n",
       "  <th>Date:</th>            <td>Wed, 19 Jan 2022</td> <th>  AIC                </th> <td>2459.074</td> \n",
       "</tr>\n",
       "<tr>\n",
       "  <th>Time:</th>                <td>19:46:10</td>     <th>  BIC                </th> <td>2470.766</td> \n",
       "</tr>\n",
       "<tr>\n",
       "  <th>Sample:</th>                  <td>0</td>        <th>  HQIC               </th> <td>2463.721</td> \n",
       "</tr>\n",
       "<tr>\n",
       "  <th></th>                      <td> - 365</td>      <th>                     </th>     <td> </td>    \n",
       "</tr>\n",
       "<tr>\n",
       "  <th>Covariance Type:</th>        <td>opg</td>       <th>                     </th>     <td> </td>    \n",
       "</tr>\n",
       "</table>\n",
       "<table class=\"simpletable\">\n",
       "<tr>\n",
       "     <td></td>       <th>coef</th>     <th>std err</th>      <th>z</th>      <th>P>|z|</th>  <th>[0.025</th>    <th>0.975]</th>  \n",
       "</tr>\n",
       "<tr>\n",
       "  <th>ar.L1</th>  <td>    0.1252</td> <td>    0.060</td> <td>    2.097</td> <td> 0.036</td> <td>    0.008</td> <td>    0.242</td>\n",
       "</tr>\n",
       "<tr>\n",
       "  <th>ma.L1</th>  <td>   -0.9624</td> <td>    0.017</td> <td>  -56.429</td> <td> 0.000</td> <td>   -0.996</td> <td>   -0.929</td>\n",
       "</tr>\n",
       "<tr>\n",
       "  <th>sigma2</th> <td>   49.1512</td> <td>    3.250</td> <td>   15.122</td> <td> 0.000</td> <td>   42.781</td> <td>   55.522</td>\n",
       "</tr>\n",
       "</table>\n",
       "<table class=\"simpletable\">\n",
       "<tr>\n",
       "  <th>Ljung-Box (L1) (Q):</th>     <td>0.04</td> <th>  Jarque-Bera (JB):  </th> <td>25.33</td>\n",
       "</tr>\n",
       "<tr>\n",
       "  <th>Prob(Q):</th>                <td>0.84</td> <th>  Prob(JB):          </th> <td>0.00</td> \n",
       "</tr>\n",
       "<tr>\n",
       "  <th>Heteroskedasticity (H):</th> <td>0.96</td> <th>  Skew:              </th> <td>0.57</td> \n",
       "</tr>\n",
       "<tr>\n",
       "  <th>Prob(H) (two-sided):</th>    <td>0.81</td> <th>  Kurtosis:          </th> <td>3.60</td> \n",
       "</tr>\n",
       "</table><br/><br/>Warnings:<br/>[1] Covariance matrix calculated using the outer product of gradients (complex-step)."
      ],
      "text/plain": [
       "<class 'statsmodels.iolib.summary.Summary'>\n",
       "\"\"\"\n",
       "                               SARIMAX Results                                \n",
       "==============================================================================\n",
       "Dep. Variable:                      y   No. Observations:                  365\n",
       "Model:               SARIMAX(1, 1, 1)   Log Likelihood               -1226.537\n",
       "Date:                Wed, 19 Jan 2022   AIC                           2459.074\n",
       "Time:                        19:46:10   BIC                           2470.766\n",
       "Sample:                             0   HQIC                          2463.721\n",
       "                                - 365                                         \n",
       "Covariance Type:                  opg                                         \n",
       "==============================================================================\n",
       "                 coef    std err          z      P>|z|      [0.025      0.975]\n",
       "------------------------------------------------------------------------------\n",
       "ar.L1          0.1252      0.060      2.097      0.036       0.008       0.242\n",
       "ma.L1         -0.9624      0.017    -56.429      0.000      -0.996      -0.929\n",
       "sigma2        49.1512      3.250     15.122      0.000      42.781      55.522\n",
       "===================================================================================\n",
       "Ljung-Box (L1) (Q):                   0.04   Jarque-Bera (JB):                25.33\n",
       "Prob(Q):                              0.84   Prob(JB):                         0.00\n",
       "Heteroskedasticity (H):               0.96   Skew:                             0.57\n",
       "Prob(H) (two-sided):                  0.81   Kurtosis:                         3.60\n",
       "===================================================================================\n",
       "\n",
       "Warnings:\n",
       "[1] Covariance matrix calculated using the outer product of gradients (complex-step).\n",
       "\"\"\""
      ]
     },
     "execution_count": 30,
     "metadata": {},
     "output_type": "execute_result"
    }
   ],
   "source": [
    "stepwise_fit.summary()\n",
    "#It takes lower values"
   ]
  },
  {
   "cell_type": "markdown",
   "id": "e71ba08c",
   "metadata": {},
   "source": [
    "# check for Seasonal data"
   ]
  },
  {
   "cell_type": "code",
   "execution_count": 31,
   "id": "82b0d5d0",
   "metadata": {},
   "outputs": [
    {
     "data": {
      "text/plain": [
       "<AxesSubplot:xlabel='Month'>"
      ]
     },
     "execution_count": 31,
     "metadata": {},
     "output_type": "execute_result"
    },
    {
     "data": {
      "image/png": "[encoded data removed]",
      "text/plain": [
       "<Figure size 432x288 with 1 Axes>"
      ]
     },
     "metadata": {
      "needs_background": "light"
     },
     "output_type": "display_data"
    }
   ],
   "source": [
    "df1.plot()"
   ]
  },
  {
   "cell_type": "code",
   "execution_count": 32,
   "id": "e1425758",
   "metadata": {},
   "outputs": [
    {
     "data": {
      "text/plain": [
       "Index(['Thousands of Passengers'], dtype='object')"
      ]
     },
     "execution_count": 32,
     "metadata": {},
     "output_type": "execute_result"
    }
   ],
   "source": [
    "df1.columns"
   ]
  },
  {
   "cell_type": "code",
   "execution_count": 39,
   "id": "3835a7ed",
   "metadata": {},
   "outputs": [
    {
     "name": "stdout",
     "output_type": "stream",
     "text": [
      "Performing stepwise search to minimize aic\n",
      " ARIMA(0,1,0)(1,1,1)[12]             : AIC=1032.128, Time=0.26 sec\n",
      " ARIMA(0,1,0)(0,1,0)[12]             : AIC=1031.508, Time=0.02 sec\n",
      " ARIMA(1,1,0)(1,1,0)[12]             : AIC=1020.393, Time=0.14 sec\n",
      " ARIMA(0,1,1)(0,1,1)[12]             : AIC=1021.003, Time=0.15 sec\n",
      " ARIMA(1,1,0)(0,1,0)[12]             : AIC=1020.393, Time=0.04 sec\n",
      " ARIMA(1,1,0)(2,1,0)[12]             : AIC=1019.239, Time=0.31 sec\n",
      " ARIMA(1,1,0)(2,1,1)[12]             : AIC=inf, Time=2.24 sec\n",
      " ARIMA(1,1,0)(1,1,1)[12]             : AIC=1020.493, Time=0.44 sec\n",
      " ARIMA(0,1,0)(2,1,0)[12]             : AIC=1032.120, Time=0.28 sec\n",
      " ARIMA(2,1,0)(2,1,0)[12]             : AIC=1021.120, Time=0.50 sec\n",
      " ARIMA(1,1,1)(2,1,0)[12]             : AIC=1021.032, Time=0.69 sec\n",
      " ARIMA(0,1,1)(2,1,0)[12]             : AIC=1019.178, Time=0.42 sec\n",
      " ARIMA(0,1,1)(1,1,0)[12]             : AIC=1020.425, Time=0.15 sec\n",
      " ARIMA(0,1,1)(2,1,1)[12]             : AIC=inf, Time=2.87 sec\n",
      " ARIMA(0,1,1)(1,1,1)[12]             : AIC=1020.327, Time=0.47 sec\n",
      " ARIMA(0,1,2)(2,1,0)[12]             : AIC=1021.148, Time=0.51 sec\n",
      " ARIMA(1,1,2)(2,1,0)[12]             : AIC=1022.805, Time=0.92 sec\n",
      " ARIMA(0,1,1)(2,1,0)[12] intercept   : AIC=1021.017, Time=0.68 sec\n",
      "\n",
      "Best model:  ARIMA(0,1,1)(2,1,0)[12]          \n",
      "Total fit time: 11.094 seconds\n"
     ]
    }
   ],
   "source": [
    "stepwise_df1 = auto_arima(df1['Thousands of Passengers'], start_p=0,start_q=0, max_p=3,max_q=3,m=12,seasonal=True,D=1, trace=True)"
   ]
  },
  {
   "cell_type": "code",
   "execution_count": 40,
   "id": "aeb9ca5b",
   "metadata": {},
   "outputs": [
    {
     "name": "stdout",
     "output_type": "stream",
     "text": [
      "                                      SARIMAX Results                                      \n",
      "===========================================================================================\n",
      "Dep. Variable:                                   y   No. Observations:                  144\n",
      "Model:             SARIMAX(0, 1, 1)x(2, 1, [], 12)   Log Likelihood                -505.589\n",
      "Date:                             Thu, 20 Jan 2022   AIC                           1019.178\n",
      "Time:                                     10:01:47   BIC                           1030.679\n",
      "Sample:                                          0   HQIC                          1023.851\n",
      "                                             - 144                                         \n",
      "Covariance Type:                               opg                                         \n",
      "==============================================================================\n",
      "                 coef    std err          z      P>|z|      [0.025      0.975]\n",
      "------------------------------------------------------------------------------\n",
      "ma.L1         -0.3634      0.074     -4.945      0.000      -0.508      -0.219\n",
      "ar.S.L12      -0.1239      0.090     -1.372      0.170      -0.301       0.053\n",
      "ar.S.L24       0.1911      0.107      1.783      0.075      -0.019       0.401\n",
      "sigma2       130.4480     15.527      8.402      0.000     100.016     160.880\n",
      "===================================================================================\n",
      "Ljung-Box (L1) (Q):                   0.01   Jarque-Bera (JB):                 4.59\n",
      "Prob(Q):                              0.92   Prob(JB):                         0.10\n",
      "Heteroskedasticity (H):               2.70   Skew:                             0.15\n",
      "Prob(H) (two-sided):                  0.00   Kurtosis:                         3.87\n",
      "===================================================================================\n",
      "\n",
      "Warnings:\n",
      "[1] Covariance matrix calculated using the outer product of gradients (complex-step).\n"
     ]
    }
   ],
   "source": [
    "print(stepwise_df1.summary())"
   ]
  },
  {
   "cell_type": "code",
   "execution_count": null,
   "id": "a30eed23",
   "metadata": {},
   "outputs": [],
   "source": []
  },
  {
   "cell_type": "code",
   "execution_count": null,
   "id": "085a452c",
   "metadata": {},
   "outputs": [],
   "source": []
  },
  {
   "cell_type": "code",
   "execution_count": null,
   "id": "2c10c6b3",
   "metadata": {},
   "outputs": [],
   "source": []
  }
 ],
 "metadata": {
  "kernelspec": {
   "display_name": "Python 3 (ipykernel)",
   "language": "python",
   "name": "python3"
  },
  "language_info": {
   "codemirror_mode": {
    "name": "ipython",
    "version": 3
   },
   "file_extension": ".py",
   "mimetype": "text/x-python",
   "name": "python",
   "nbconvert_exporter": "python",
   "pygments_lexer": "ipython3",
   "version": "3.9.5"
  }
 },
 "nbformat": 4,
 "nbformat_minor": 5
}
