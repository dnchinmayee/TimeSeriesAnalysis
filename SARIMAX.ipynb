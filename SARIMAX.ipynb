{
 "cells": [
  {
   "cell_type": "markdown",
   "id": "c9b33262",
   "metadata": {},
   "source": [
    "# SARIMAX\n",
    "\n",
    "SARIMAX(Seasonal Auto-Regressive Integrated Moving Average with eXogenous factors) is an updated version of the ARIMA model.\n",
    "ARIMA includes an autoregressive integrated moving average, while SARIMAX includes seasonal effects and eXogenous factors with the autoregressive and moving average component in the model. Therefore, we can say SARIMAX is a seasonal equivalent model like SARIMA and Auto ARIMA.\n",
    "\n",
    "Another seasonal equivalent model holds the seasonal pattern; it can also deal with external effects. \n",
    "This feature of the model differs from other models. For example, in a time series, the temperature has seasonal effects like it is low in winter, high in summers. Still, with the effect of external factors like humidity, the temperature in winter is increased and also due to rain, there is a chance of lower temperature. We can’t predict the exact value for these factors if they do not appear in a cyclic or any seasonal behaviour.\n",
    "Other models are not capable of dealing with this kind of data."
   ]
  },
  {
   "cell_type": "markdown",
   "id": "9b90388c",
   "metadata": {},
   "source": [
    "In the SARIMAX models parameter, we need to provide two kinds of orders.\n",
    "The first one is similar to the ARIMAX model (p, d, q), \n",
    "and the other is to specify the effect of the seasonality; \n",
    "we call this order a seasonal order in which we are required to provide four numbers. \n",
    "\n",
    "(Seasonal AR specification, Seasonal Integration order, Seasonal MA, Seasonal periodicity)"
   ]
  },
  {
   "cell_type": "code",
   "execution_count": 1,
   "id": "99affb76",
   "metadata": {},
   "outputs": [],
   "source": [
    "import pandas as pd\n",
    "import numpy as np\n",
    "import statsmodels.api as sm"
   ]
  },
  {
   "cell_type": "code",
   "execution_count": 2,
   "id": "6f00cfad",
   "metadata": {},
   "outputs": [],
   "source": [
    "import warnings\n",
    "warnings.filterwarnings(\"ignore\")"
   ]
  },
  {
   "cell_type": "code",
   "execution_count": 3,
   "id": "240f851a",
   "metadata": {},
   "outputs": [],
   "source": [
    "from statsmodels.tsa.statespace.sarimax import SARIMAX"
   ]
  },
  {
   "cell_type": "code",
   "execution_count": 4,
   "id": "314d1e49",
   "metadata": {},
   "outputs": [],
   "source": [
    "from statsmodels.tsa.seasonal import seasonal_decompose"
   ]
  },
  {
   "cell_type": "code",
   "execution_count": 5,
   "id": "e8138fe4",
   "metadata": {},
   "outputs": [],
   "source": [
    "df = pd.read_csv(r'C:/Users/User/Downloads/UDEMY_TSA_FINAL/UDEMY_TSA_FINAL/Data/co2_mm_mlo.csv')"
   ]
  },
  {
   "cell_type": "code",
   "execution_count": 6,
   "id": "7ae0633b",
   "metadata": {},
   "outputs": [
    {
     "data": {
      "text/plain": [
       "Index(['year', 'month', 'decimal_date', 'average', 'interpolated'], dtype='object')"
      ]
     },
     "execution_count": 6,
     "metadata": {},
     "output_type": "execute_result"
    }
   ],
   "source": [
    "df.columns"
   ]
  },
  {
   "cell_type": "code",
   "execution_count": 7,
   "id": "6919c9ac",
   "metadata": {},
   "outputs": [
    {
     "name": "stdout",
     "output_type": "stream",
     "text": [
      "<class 'pandas.core.frame.DataFrame'>\n",
      "RangeIndex: 729 entries, 0 to 728\n",
      "Data columns (total 5 columns):\n",
      " #   Column        Non-Null Count  Dtype  \n",
      "---  ------        --------------  -----  \n",
      " 0   year          729 non-null    int64  \n",
      " 1   month         729 non-null    int64  \n",
      " 2   decimal_date  729 non-null    float64\n",
      " 3   average       722 non-null    float64\n",
      " 4   interpolated  729 non-null    float64\n",
      "dtypes: float64(3), int64(2)\n",
      "memory usage: 28.6 KB\n"
     ]
    }
   ],
   "source": [
    "df.info()"
   ]
  },
  {
   "cell_type": "code",
   "execution_count": 8,
   "id": "36a7254f",
   "metadata": {},
   "outputs": [
    {
     "data": {
      "text/plain": [
       "year            0\n",
       "month           0\n",
       "decimal_date    0\n",
       "average         7\n",
       "interpolated    0\n",
       "dtype: int64"
      ]
     },
     "execution_count": 8,
     "metadata": {},
     "output_type": "execute_result"
    }
   ],
   "source": [
    "df.isnull().sum()"
   ]
  },
  {
   "cell_type": "code",
   "execution_count": 9,
   "id": "d76bec1d",
   "metadata": {},
   "outputs": [],
   "source": [
    "df['date'] = pd.to_datetime({'year':df['year'], 'month':df['month'],'day':1})"
   ]
  },
  {
   "cell_type": "code",
   "execution_count": 10,
   "id": "63405ec2",
   "metadata": {},
   "outputs": [
    {
     "data": {
      "text/html": [
       "<div>\n",
       "<style scoped>\n",
       "    .dataframe tbody tr th:only-of-type {\n",
       "        vertical-align: middle;\n",
       "    }\n",
       "\n",
       "    .dataframe tbody tr th {\n",
       "        vertical-align: top;\n",
       "    }\n",
       "\n",
       "    .dataframe thead th {\n",
       "        text-align: right;\n",
       "    }\n",
       "</style>\n",
       "<table border=\"1\" class=\"dataframe\">\n",
       "  <thead>\n",
       "    <tr style=\"text-align: right;\">\n",
       "      <th></th>\n",
       "      <th>year</th>\n",
       "      <th>month</th>\n",
       "      <th>decimal_date</th>\n",
       "      <th>average</th>\n",
       "      <th>interpolated</th>\n",
       "      <th>date</th>\n",
       "    </tr>\n",
       "  </thead>\n",
       "  <tbody>\n",
       "    <tr>\n",
       "      <th>0</th>\n",
       "      <td>1958</td>\n",
       "      <td>3</td>\n",
       "      <td>1958.208</td>\n",
       "      <td>315.71</td>\n",
       "      <td>315.71</td>\n",
       "      <td>1958-03-01</td>\n",
       "    </tr>\n",
       "    <tr>\n",
       "      <th>1</th>\n",
       "      <td>1958</td>\n",
       "      <td>4</td>\n",
       "      <td>1958.292</td>\n",
       "      <td>317.45</td>\n",
       "      <td>317.45</td>\n",
       "      <td>1958-04-01</td>\n",
       "    </tr>\n",
       "    <tr>\n",
       "      <th>2</th>\n",
       "      <td>1958</td>\n",
       "      <td>5</td>\n",
       "      <td>1958.375</td>\n",
       "      <td>317.50</td>\n",
       "      <td>317.50</td>\n",
       "      <td>1958-05-01</td>\n",
       "    </tr>\n",
       "    <tr>\n",
       "      <th>3</th>\n",
       "      <td>1958</td>\n",
       "      <td>6</td>\n",
       "      <td>1958.458</td>\n",
       "      <td>NaN</td>\n",
       "      <td>317.10</td>\n",
       "      <td>1958-06-01</td>\n",
       "    </tr>\n",
       "    <tr>\n",
       "      <th>4</th>\n",
       "      <td>1958</td>\n",
       "      <td>7</td>\n",
       "      <td>1958.542</td>\n",
       "      <td>315.86</td>\n",
       "      <td>315.86</td>\n",
       "      <td>1958-07-01</td>\n",
       "    </tr>\n",
       "  </tbody>\n",
       "</table>\n",
       "</div>"
      ],
      "text/plain": [
       "   year  month  decimal_date  average  interpolated       date\n",
       "0  1958      3      1958.208   315.71        315.71 1958-03-01\n",
       "1  1958      4      1958.292   317.45        317.45 1958-04-01\n",
       "2  1958      5      1958.375   317.50        317.50 1958-05-01\n",
       "3  1958      6      1958.458      NaN        317.10 1958-06-01\n",
       "4  1958      7      1958.542   315.86        315.86 1958-07-01"
      ]
     },
     "execution_count": 10,
     "metadata": {},
     "output_type": "execute_result"
    }
   ],
   "source": [
    "df.head()"
   ]
  },
  {
   "cell_type": "code",
   "execution_count": 11,
   "id": "02f24319",
   "metadata": {},
   "outputs": [],
   "source": [
    "df = df.set_index('date')"
   ]
  },
  {
   "cell_type": "code",
   "execution_count": 12,
   "id": "c90e7e37",
   "metadata": {},
   "outputs": [
    {
     "data": {
      "text/html": [
       "<div>\n",
       "<style scoped>\n",
       "    .dataframe tbody tr th:only-of-type {\n",
       "        vertical-align: middle;\n",
       "    }\n",
       "\n",
       "    .dataframe tbody tr th {\n",
       "        vertical-align: top;\n",
       "    }\n",
       "\n",
       "    .dataframe thead th {\n",
       "        text-align: right;\n",
       "    }\n",
       "</style>\n",
       "<table border=\"1\" class=\"dataframe\">\n",
       "  <thead>\n",
       "    <tr style=\"text-align: right;\">\n",
       "      <th></th>\n",
       "      <th>year</th>\n",
       "      <th>month</th>\n",
       "      <th>decimal_date</th>\n",
       "      <th>average</th>\n",
       "      <th>interpolated</th>\n",
       "    </tr>\n",
       "    <tr>\n",
       "      <th>date</th>\n",
       "      <th></th>\n",
       "      <th></th>\n",
       "      <th></th>\n",
       "      <th></th>\n",
       "      <th></th>\n",
       "    </tr>\n",
       "  </thead>\n",
       "  <tbody>\n",
       "    <tr>\n",
       "      <th>1958-03-01</th>\n",
       "      <td>1958</td>\n",
       "      <td>3</td>\n",
       "      <td>1958.208</td>\n",
       "      <td>315.71</td>\n",
       "      <td>315.71</td>\n",
       "    </tr>\n",
       "    <tr>\n",
       "      <th>1958-04-01</th>\n",
       "      <td>1958</td>\n",
       "      <td>4</td>\n",
       "      <td>1958.292</td>\n",
       "      <td>317.45</td>\n",
       "      <td>317.45</td>\n",
       "    </tr>\n",
       "    <tr>\n",
       "      <th>1958-05-01</th>\n",
       "      <td>1958</td>\n",
       "      <td>5</td>\n",
       "      <td>1958.375</td>\n",
       "      <td>317.50</td>\n",
       "      <td>317.50</td>\n",
       "    </tr>\n",
       "    <tr>\n",
       "      <th>1958-06-01</th>\n",
       "      <td>1958</td>\n",
       "      <td>6</td>\n",
       "      <td>1958.458</td>\n",
       "      <td>NaN</td>\n",
       "      <td>317.10</td>\n",
       "    </tr>\n",
       "    <tr>\n",
       "      <th>1958-07-01</th>\n",
       "      <td>1958</td>\n",
       "      <td>7</td>\n",
       "      <td>1958.542</td>\n",
       "      <td>315.86</td>\n",
       "      <td>315.86</td>\n",
       "    </tr>\n",
       "  </tbody>\n",
       "</table>\n",
       "</div>"
      ],
      "text/plain": [
       "            year  month  decimal_date  average  interpolated\n",
       "date                                                        \n",
       "1958-03-01  1958      3      1958.208   315.71        315.71\n",
       "1958-04-01  1958      4      1958.292   317.45        317.45\n",
       "1958-05-01  1958      5      1958.375   317.50        317.50\n",
       "1958-06-01  1958      6      1958.458      NaN        317.10\n",
       "1958-07-01  1958      7      1958.542   315.86        315.86"
      ]
     },
     "execution_count": 12,
     "metadata": {},
     "output_type": "execute_result"
    }
   ],
   "source": [
    "df.head()"
   ]
  },
  {
   "cell_type": "code",
   "execution_count": 13,
   "id": "9bfdc503",
   "metadata": {},
   "outputs": [
    {
     "data": {
      "text/html": [
       "<div>\n",
       "<style scoped>\n",
       "    .dataframe tbody tr th:only-of-type {\n",
       "        vertical-align: middle;\n",
       "    }\n",
       "\n",
       "    .dataframe tbody tr th {\n",
       "        vertical-align: top;\n",
       "    }\n",
       "\n",
       "    .dataframe thead th {\n",
       "        text-align: right;\n",
       "    }\n",
       "</style>\n",
       "<table border=\"1\" class=\"dataframe\">\n",
       "  <thead>\n",
       "    <tr style=\"text-align: right;\">\n",
       "      <th></th>\n",
       "      <th>year</th>\n",
       "      <th>month</th>\n",
       "      <th>decimal_date</th>\n",
       "      <th>average</th>\n",
       "      <th>interpolated</th>\n",
       "    </tr>\n",
       "    <tr>\n",
       "      <th>date</th>\n",
       "      <th></th>\n",
       "      <th></th>\n",
       "      <th></th>\n",
       "      <th></th>\n",
       "      <th></th>\n",
       "    </tr>\n",
       "  </thead>\n",
       "  <tbody>\n",
       "    <tr>\n",
       "      <th>1958-03-01</th>\n",
       "      <td>1958</td>\n",
       "      <td>3</td>\n",
       "      <td>1958.208</td>\n",
       "      <td>315.71</td>\n",
       "      <td>315.71</td>\n",
       "    </tr>\n",
       "    <tr>\n",
       "      <th>1958-04-01</th>\n",
       "      <td>1958</td>\n",
       "      <td>4</td>\n",
       "      <td>1958.292</td>\n",
       "      <td>317.45</td>\n",
       "      <td>317.45</td>\n",
       "    </tr>\n",
       "    <tr>\n",
       "      <th>1958-05-01</th>\n",
       "      <td>1958</td>\n",
       "      <td>5</td>\n",
       "      <td>1958.375</td>\n",
       "      <td>317.50</td>\n",
       "      <td>317.50</td>\n",
       "    </tr>\n",
       "    <tr>\n",
       "      <th>1958-06-01</th>\n",
       "      <td>1958</td>\n",
       "      <td>6</td>\n",
       "      <td>1958.458</td>\n",
       "      <td>NaN</td>\n",
       "      <td>317.10</td>\n",
       "    </tr>\n",
       "    <tr>\n",
       "      <th>1958-07-01</th>\n",
       "      <td>1958</td>\n",
       "      <td>7</td>\n",
       "      <td>1958.542</td>\n",
       "      <td>315.86</td>\n",
       "      <td>315.86</td>\n",
       "    </tr>\n",
       "  </tbody>\n",
       "</table>\n",
       "</div>"
      ],
      "text/plain": [
       "            year  month  decimal_date  average  interpolated\n",
       "date                                                        \n",
       "1958-03-01  1958      3      1958.208   315.71        315.71\n",
       "1958-04-01  1958      4      1958.292   317.45        317.45\n",
       "1958-05-01  1958      5      1958.375   317.50        317.50\n",
       "1958-06-01  1958      6      1958.458      NaN        317.10\n",
       "1958-07-01  1958      7      1958.542   315.86        315.86"
      ]
     },
     "execution_count": 13,
     "metadata": {},
     "output_type": "execute_result"
    }
   ],
   "source": [
    "df.head()"
   ]
  },
  {
   "cell_type": "code",
   "execution_count": 14,
   "id": "358362c8",
   "metadata": {},
   "outputs": [
    {
     "data": {
      "text/plain": [
       "<AxesSubplot:xlabel='date'>"
      ]
     },
     "execution_count": 14,
     "metadata": {},
     "output_type": "execute_result"
    },
    {
     "data": {
      "image/png": "[encoded data removed]",
      "text/plain": [
       "<Figure size 720x504 with 1 Axes>"
      ]
     },
     "metadata": {
      "needs_background": "light"
     },
     "output_type": "display_data"
    }
   ],
   "source": [
    "df['interpolated'].plot(figsize=(10,7))"
   ]
  },
  {
   "cell_type": "code",
   "execution_count": 15,
   "id": "83e88acc",
   "metadata": {},
   "outputs": [],
   "source": [
    "result = seasonal_decompose(df['interpolated'], model='add')"
   ]
  },
  {
   "cell_type": "code",
   "execution_count": 16,
   "id": "b835cc28",
   "metadata": {},
   "outputs": [
    {
     "data": {
      "image/png": "[encoded data removed]",
      "text/plain": [
       "<Figure size 432x288 with 4 Axes>"
      ]
     },
     "metadata": {
      "needs_background": "light"
     },
     "output_type": "display_data"
    }
   ],
   "source": [
    "result.plot();"
   ]
  },
  {
   "cell_type": "code",
   "execution_count": 17,
   "id": "c13d021e",
   "metadata": {},
   "outputs": [
    {
     "data": {
      "text/plain": [
       "<AxesSubplot:xlabel='date'>"
      ]
     },
     "execution_count": 17,
     "metadata": {},
     "output_type": "execute_result"
    },
    {
     "data": {
      "image/png": "[encoded data removed]",
      "text/plain": [
       "<Figure size 432x288 with 1 Axes>"
      ]
     },
     "metadata": {
      "needs_background": "light"
     },
     "output_type": "display_data"
    }
   ],
   "source": [
    "result.seasonal.plot()"
   ]
  },
  {
   "cell_type": "code",
   "execution_count": 18,
   "id": "a0365585",
   "metadata": {},
   "outputs": [],
   "source": [
    "#How to checck whether seasonal or not"
   ]
  },
  {
   "cell_type": "code",
   "execution_count": 19,
   "id": "50d483ef",
   "metadata": {},
   "outputs": [],
   "source": [
    "from statsmodels.tsa.stattools import adfuller"
   ]
  },
  {
   "cell_type": "code",
   "execution_count": 20,
   "id": "8ed54314",
   "metadata": {},
   "outputs": [],
   "source": [
    "dftest = adfuller(df.interpolated, autolag = 'AIC')"
   ]
  },
  {
   "cell_type": "code",
   "execution_count": 21,
   "id": "45105f72",
   "metadata": {},
   "outputs": [
    {
     "name": "stdout",
     "output_type": "stream",
     "text": [
      "1. ADF :  4.994847244403932\n",
      "2. P-Value :  1.0\n",
      "3. Num Of Lags :  20\n",
      "4. Num Of Observations Used For ADF Regression and Critical Values Calculation : 708\n",
      "5. Critical Values :\n",
      "\t 1% :  -3.439620010600208\n",
      "\t 5% :  -2.8656309041017756\n",
      "\t 10% :  -2.5689484851894413\n"
     ]
    }
   ],
   "source": [
    "print(\"1. ADF : \",dftest[0])\n",
    "print(\"2. P-Value : \", dftest[1])\n",
    "print(\"3. Num Of Lags : \", dftest[2])\n",
    "print(\"4. Num Of Observations Used For ADF Regression and Critical Values Calculation :\", dftest[3])\n",
    "print(\"5. Critical Values :\")\n",
    "for key, val in dftest[4].items():\n",
    "    print(\"\\t\",key, \": \", val)"
   ]
  },
  {
   "cell_type": "markdown",
   "id": "0346f054",
   "metadata": {},
   "source": [
    "from above we can find that the series is not Stationary(seasonal). We can make it to stationary with differencing methods and Rolling mean method\n"
   ]
  },
  {
   "cell_type": "code",
   "execution_count": 22,
   "id": "bdf8ef1a",
   "metadata": {},
   "outputs": [
    {
     "data": {
      "text/html": [
       "<div>\n",
       "<style scoped>\n",
       "    .dataframe tbody tr th:only-of-type {\n",
       "        vertical-align: middle;\n",
       "    }\n",
       "\n",
       "    .dataframe tbody tr th {\n",
       "        vertical-align: top;\n",
       "    }\n",
       "\n",
       "    .dataframe thead th {\n",
       "        text-align: right;\n",
       "    }\n",
       "</style>\n",
       "<table border=\"1\" class=\"dataframe\">\n",
       "  <thead>\n",
       "    <tr style=\"text-align: right;\">\n",
       "      <th></th>\n",
       "      <th>year</th>\n",
       "      <th>month</th>\n",
       "      <th>decimal_date</th>\n",
       "      <th>average</th>\n",
       "      <th>interpolated</th>\n",
       "    </tr>\n",
       "    <tr>\n",
       "      <th>date</th>\n",
       "      <th></th>\n",
       "      <th></th>\n",
       "      <th></th>\n",
       "      <th></th>\n",
       "      <th></th>\n",
       "    </tr>\n",
       "  </thead>\n",
       "  <tbody>\n",
       "    <tr>\n",
       "      <th>1958-03-01</th>\n",
       "      <td>NaN</td>\n",
       "      <td>NaN</td>\n",
       "      <td>NaN</td>\n",
       "      <td>NaN</td>\n",
       "      <td>NaN</td>\n",
       "    </tr>\n",
       "    <tr>\n",
       "      <th>1958-04-01</th>\n",
       "      <td>NaN</td>\n",
       "      <td>NaN</td>\n",
       "      <td>NaN</td>\n",
       "      <td>NaN</td>\n",
       "      <td>NaN</td>\n",
       "    </tr>\n",
       "    <tr>\n",
       "      <th>1958-05-01</th>\n",
       "      <td>NaN</td>\n",
       "      <td>NaN</td>\n",
       "      <td>NaN</td>\n",
       "      <td>NaN</td>\n",
       "      <td>NaN</td>\n",
       "    </tr>\n",
       "    <tr>\n",
       "      <th>1958-06-01</th>\n",
       "      <td>NaN</td>\n",
       "      <td>NaN</td>\n",
       "      <td>NaN</td>\n",
       "      <td>NaN</td>\n",
       "      <td>NaN</td>\n",
       "    </tr>\n",
       "    <tr>\n",
       "      <th>1958-07-01</th>\n",
       "      <td>NaN</td>\n",
       "      <td>NaN</td>\n",
       "      <td>NaN</td>\n",
       "      <td>NaN</td>\n",
       "      <td>NaN</td>\n",
       "    </tr>\n",
       "    <tr>\n",
       "      <th>...</th>\n",
       "      <td>...</td>\n",
       "      <td>...</td>\n",
       "      <td>...</td>\n",
       "      <td>...</td>\n",
       "      <td>...</td>\n",
       "    </tr>\n",
       "    <tr>\n",
       "      <th>2018-07-01</th>\n",
       "      <td>2017.583333</td>\n",
       "      <td>6.5</td>\n",
       "      <td>2018.083333</td>\n",
       "      <td>407.560833</td>\n",
       "      <td>407.560833</td>\n",
       "    </tr>\n",
       "    <tr>\n",
       "      <th>2018-08-01</th>\n",
       "      <td>2017.666667</td>\n",
       "      <td>6.5</td>\n",
       "      <td>2018.166667</td>\n",
       "      <td>407.715833</td>\n",
       "      <td>407.715833</td>\n",
       "    </tr>\n",
       "    <tr>\n",
       "      <th>2018-09-01</th>\n",
       "      <td>2017.750000</td>\n",
       "      <td>6.5</td>\n",
       "      <td>2018.250000</td>\n",
       "      <td>407.894167</td>\n",
       "      <td>407.894167</td>\n",
       "    </tr>\n",
       "    <tr>\n",
       "      <th>2018-10-01</th>\n",
       "      <td>2017.833333</td>\n",
       "      <td>6.5</td>\n",
       "      <td>2018.333333</td>\n",
       "      <td>408.091667</td>\n",
       "      <td>408.091667</td>\n",
       "    </tr>\n",
       "    <tr>\n",
       "      <th>2018-11-01</th>\n",
       "      <td>2017.916667</td>\n",
       "      <td>6.5</td>\n",
       "      <td>2018.416667</td>\n",
       "      <td>408.333333</td>\n",
       "      <td>408.333333</td>\n",
       "    </tr>\n",
       "  </tbody>\n",
       "</table>\n",
       "<p>729 rows × 5 columns</p>\n",
       "</div>"
      ],
      "text/plain": [
       "                   year  month  decimal_date     average  interpolated\n",
       "date                                                                  \n",
       "1958-03-01          NaN    NaN           NaN         NaN           NaN\n",
       "1958-04-01          NaN    NaN           NaN         NaN           NaN\n",
       "1958-05-01          NaN    NaN           NaN         NaN           NaN\n",
       "1958-06-01          NaN    NaN           NaN         NaN           NaN\n",
       "1958-07-01          NaN    NaN           NaN         NaN           NaN\n",
       "...                 ...    ...           ...         ...           ...\n",
       "2018-07-01  2017.583333    6.5   2018.083333  407.560833    407.560833\n",
       "2018-08-01  2017.666667    6.5   2018.166667  407.715833    407.715833\n",
       "2018-09-01  2017.750000    6.5   2018.250000  407.894167    407.894167\n",
       "2018-10-01  2017.833333    6.5   2018.333333  408.091667    408.091667\n",
       "2018-11-01  2017.916667    6.5   2018.416667  408.333333    408.333333\n",
       "\n",
       "[729 rows x 5 columns]"
      ]
     },
     "execution_count": 22,
     "metadata": {},
     "output_type": "execute_result"
    }
   ],
   "source": [
    "rolling_mean = df.rolling(window = 12).mean()\n",
    "rolling_mean"
   ]
  },
  {
   "cell_type": "code",
   "execution_count": 23,
   "id": "d061943d",
   "metadata": {},
   "outputs": [],
   "source": [
    "from statsmodels.tsa.statespace.tools import diff\n",
    "df['diff_1'] = diff(df['interpolated'], k_diff=1)"
   ]
  },
  {
   "cell_type": "code",
   "execution_count": 24,
   "id": "e902c9f1",
   "metadata": {},
   "outputs": [],
   "source": [
    "from statsmodels.tsa.stattools import adfuller"
   ]
  },
  {
   "cell_type": "code",
   "execution_count": 25,
   "id": "bb0ba229",
   "metadata": {},
   "outputs": [],
   "source": [
    "def adf_test(dataset):\n",
    "    result = adfuller(dataset.dropna(), autolag ='AIC')\n",
    "    labels = ['ADF test statistic','p-value','# lags used','# observations']\n",
    "    out = pd.Series(result[0:4],index=labels)\n",
    "    for key,val in result[4].items():\n",
    "        out[f'critical value ({key})']=val\n",
    "        \n",
    "    print(out.to_string())\n",
    "    if result[1]<0.05:\n",
    "        print(out['p-value'])\n",
    "        print(\"data is stationary\")\n",
    "        print(\"reject Null Hypothesis\")\n",
    "        print(\"It has no unit root\")\n",
    "    else:\n",
    "        print(out['p-value'])\n",
    "        print(\"data is stationary\")\n",
    "        print(\"rejetc Null Hypothesis\")\n",
    "        print(\"It has no unit root\")"
   ]
  },
  {
   "cell_type": "code",
   "execution_count": 26,
   "id": "c08bcf2b",
   "metadata": {},
   "outputs": [
    {
     "name": "stdout",
     "output_type": "stream",
     "text": [
      "ADF test statistic       -5.200976\n",
      "p-value                   0.000009\n",
      "# lags used              20.000000\n",
      "# observations          707.000000\n",
      "critical value (1%)      -3.439633\n",
      "critical value (5%)      -2.865637\n",
      "critical value (10%)     -2.568952\n",
      "8.75184480819648e-06\n",
      "data is stationary\n",
      "reject Null Hypothesis\n",
      "It has no unit root\n"
     ]
    }
   ],
   "source": [
    "adf_test(df['diff_1'])"
   ]
  },
  {
   "cell_type": "code",
   "execution_count": 27,
   "id": "38360a28",
   "metadata": {},
   "outputs": [],
   "source": [
    "#Now the p-values is less than 0.05"
   ]
  },
  {
   "cell_type": "markdown",
   "id": "93dfeb76",
   "metadata": {},
   "source": [
    "# Here we can go with the methods...Stationary series"
   ]
  },
  {
   "cell_type": "code",
   "execution_count": null,
   "id": "73f86323",
   "metadata": {},
   "outputs": [],
   "source": []
  },
  {
   "cell_type": "code",
   "execution_count": null,
   "id": "4ed46f16",
   "metadata": {},
   "outputs": [],
   "source": []
  },
  {
   "cell_type": "code",
   "execution_count": null,
   "id": "50c34d07",
   "metadata": {},
   "outputs": [],
   "source": []
  },
  {
   "cell_type": "code",
   "execution_count": null,
   "id": "29bb3388",
   "metadata": {},
   "outputs": [],
   "source": []
  },
  {
   "cell_type": "code",
   "execution_count": null,
   "id": "827c6832",
   "metadata": {},
   "outputs": [],
   "source": []
  },
  {
   "cell_type": "markdown",
   "id": "7ee0890a",
   "metadata": {},
   "source": [
    "# case-2\n",
    "when the series is SEASONAL and seasonal=True"
   ]
  },
  {
   "cell_type": "markdown",
   "id": "dd1caa44",
   "metadata": {},
   "source": [
    "In the SARIMAX models parameter, we need to provide two kinds of orders. The first one is similar to the ARIMAX model (p, d, q), and the other is to specify the effect of the seasonality; we call this order a seasonal\n",
    "order in which we are required to provide four numbers. "
   ]
  },
  {
   "cell_type": "markdown",
   "id": "818c01f4",
   "metadata": {},
   "source": [
    "p is not less than 0.05 ...could not reject Null hypothesis. it is Seasonal."
   ]
  },
  {
   "cell_type": "code",
   "execution_count": 28,
   "id": "dae5fbb7",
   "metadata": {},
   "outputs": [
    {
     "data": {
      "text/html": [
       "<table class=\"simpletable\">\n",
       "<caption>SARIMAX Results</caption>\n",
       "<tr>\n",
       "  <th>Dep. Variable:</th>                   <td>y</td>                <th>  No. Observations:  </th>    <td>729</td>  \n",
       "</tr>\n",
       "<tr>\n",
       "  <th>Model:</th>           <td>SARIMAX(0, 1, 3)x(1, 0, [1], 12)</td> <th>  Log Likelihood     </th> <td>-205.701</td>\n",
       "</tr>\n",
       "<tr>\n",
       "  <th>Date:</th>                    <td>Thu, 27 Jan 2022</td>         <th>  AIC                </th>  <td>423.401</td>\n",
       "</tr>\n",
       "<tr>\n",
       "  <th>Time:</th>                        <td>14:36:27</td>             <th>  BIC                </th>  <td>450.943</td>\n",
       "</tr>\n",
       "<tr>\n",
       "  <th>Sample:</th>                          <td>0</td>                <th>  HQIC               </th>  <td>434.028</td>\n",
       "</tr>\n",
       "<tr>\n",
       "  <th></th>                              <td> - 729</td>              <th>                     </th>     <td> </td>   \n",
       "</tr>\n",
       "<tr>\n",
       "  <th>Covariance Type:</th>                <td>opg</td>               <th>                     </th>     <td> </td>   \n",
       "</tr>\n",
       "</table>\n",
       "<table class=\"simpletable\">\n",
       "<tr>\n",
       "      <td></td>        <th>coef</th>     <th>std err</th>      <th>z</th>      <th>P>|z|</th>  <th>[0.025</th>    <th>0.975]</th>  \n",
       "</tr>\n",
       "<tr>\n",
       "  <th>ma.L1</th>    <td>   -0.3560</td> <td>    0.035</td> <td>  -10.073</td> <td> 0.000</td> <td>   -0.425</td> <td>   -0.287</td>\n",
       "</tr>\n",
       "<tr>\n",
       "  <th>ma.L2</th>    <td>   -0.0224</td> <td>    0.028</td> <td>   -0.792</td> <td> 0.428</td> <td>   -0.078</td> <td>    0.033</td>\n",
       "</tr>\n",
       "<tr>\n",
       "  <th>ma.L3</th>    <td>   -0.0861</td> <td>    0.028</td> <td>   -3.042</td> <td> 0.002</td> <td>   -0.142</td> <td>   -0.031</td>\n",
       "</tr>\n",
       "<tr>\n",
       "  <th>ar.S.L12</th> <td>    0.9996</td> <td>    0.000</td> <td> 2870.137</td> <td> 0.000</td> <td>    0.999</td> <td>    1.000</td>\n",
       "</tr>\n",
       "<tr>\n",
       "  <th>ma.S.L12</th> <td>   -0.8653</td> <td>    0.021</td> <td>  -40.475</td> <td> 0.000</td> <td>   -0.907</td> <td>   -0.823</td>\n",
       "</tr>\n",
       "<tr>\n",
       "  <th>sigma2</th>   <td>    0.0956</td> <td>    0.005</td> <td>   20.324</td> <td> 0.000</td> <td>    0.086</td> <td>    0.105</td>\n",
       "</tr>\n",
       "</table>\n",
       "<table class=\"simpletable\">\n",
       "<tr>\n",
       "  <th>Ljung-Box (L1) (Q):</th>     <td>0.07</td> <th>  Jarque-Bera (JB):  </th> <td>3.99</td>\n",
       "</tr>\n",
       "<tr>\n",
       "  <th>Prob(Q):</th>                <td>0.79</td> <th>  Prob(JB):          </th> <td>0.14</td>\n",
       "</tr>\n",
       "<tr>\n",
       "  <th>Heteroskedasticity (H):</th> <td>1.13</td> <th>  Skew:              </th> <td>0.00</td>\n",
       "</tr>\n",
       "<tr>\n",
       "  <th>Prob(H) (two-sided):</th>    <td>0.34</td> <th>  Kurtosis:          </th> <td>3.36</td>\n",
       "</tr>\n",
       "</table><br/><br/>Warnings:<br/>[1] Covariance matrix calculated using the outer product of gradients (complex-step)."
      ],
      "text/plain": [
       "<class 'statsmodels.iolib.summary.Summary'>\n",
       "\"\"\"\n",
       "                                      SARIMAX Results                                       \n",
       "============================================================================================\n",
       "Dep. Variable:                                    y   No. Observations:                  729\n",
       "Model:             SARIMAX(0, 1, 3)x(1, 0, [1], 12)   Log Likelihood                -205.701\n",
       "Date:                              Thu, 27 Jan 2022   AIC                            423.401\n",
       "Time:                                      14:36:27   BIC                            450.943\n",
       "Sample:                                           0   HQIC                           434.028\n",
       "                                              - 729                                         \n",
       "Covariance Type:                                opg                                         \n",
       "==============================================================================\n",
       "                 coef    std err          z      P>|z|      [0.025      0.975]\n",
       "------------------------------------------------------------------------------\n",
       "ma.L1         -0.3560      0.035    -10.073      0.000      -0.425      -0.287\n",
       "ma.L2         -0.0224      0.028     -0.792      0.428      -0.078       0.033\n",
       "ma.L3         -0.0861      0.028     -3.042      0.002      -0.142      -0.031\n",
       "ar.S.L12       0.9996      0.000   2870.137      0.000       0.999       1.000\n",
       "ma.S.L12      -0.8653      0.021    -40.475      0.000      -0.907      -0.823\n",
       "sigma2         0.0956      0.005     20.324      0.000       0.086       0.105\n",
       "===================================================================================\n",
       "Ljung-Box (L1) (Q):                   0.07   Jarque-Bera (JB):                 3.99\n",
       "Prob(Q):                              0.79   Prob(JB):                         0.14\n",
       "Heteroskedasticity (H):               1.13   Skew:                             0.00\n",
       "Prob(H) (two-sided):                  0.34   Kurtosis:                         3.36\n",
       "===================================================================================\n",
       "\n",
       "Warnings:\n",
       "[1] Covariance matrix calculated using the outer product of gradients (complex-step).\n",
       "\"\"\""
      ]
     },
     "execution_count": 28,
     "metadata": {},
     "output_type": "execute_result"
    }
   ],
   "source": [
    "# So this is Seasonal and then find value of(p,q)\n",
    "from pmdarima import auto_arima\n",
    "auto_arima(df['interpolated'],seasonal=True, m=12).summary()"
   ]
  },
  {
   "cell_type": "code",
   "execution_count": null,
   "id": "9889b9c7",
   "metadata": {},
   "outputs": [],
   "source": [
    "#Go for train and test splits"
   ]
  },
  {
   "cell_type": "code",
   "execution_count": 38,
   "id": "ade82c11",
   "metadata": {},
   "outputs": [],
   "source": [
    "train = df.iloc[:717] \n",
    "test = df.iloc[717:]"
   ]
  },
  {
   "cell_type": "code",
   "execution_count": 39,
   "id": "228acaf3",
   "metadata": {},
   "outputs": [],
   "source": [
    "model_sarimax = SARIMAX(train['interpolated'], order=(0,1,3),seasonal_order=(1,0,1,12))"
   ]
  },
  {
   "cell_type": "code",
   "execution_count": 41,
   "id": "f61cbfe9",
   "metadata": {},
   "outputs": [],
   "source": [
    "result = model_sarimax.fit()"
   ]
  },
  {
   "cell_type": "code",
   "execution_count": 42,
   "id": "0bacfeac",
   "metadata": {},
   "outputs": [
    {
     "data": {
      "text/html": [
       "<table class=\"simpletable\">\n",
       "<caption>SARIMAX Results</caption>\n",
       "<tr>\n",
       "  <th>Dep. Variable:</th>             <td>interpolated</td>           <th>  No. Observations:  </th>    <td>717</td>  \n",
       "</tr>\n",
       "<tr>\n",
       "  <th>Model:</th>           <td>SARIMAX(0, 1, 3)x(1, 0, [1], 12)</td> <th>  Log Likelihood     </th> <td>-201.189</td>\n",
       "</tr>\n",
       "<tr>\n",
       "  <th>Date:</th>                    <td>Thu, 27 Jan 2022</td>         <th>  AIC                </th>  <td>414.378</td>\n",
       "</tr>\n",
       "<tr>\n",
       "  <th>Time:</th>                        <td>15:07:50</td>             <th>  BIC                </th>  <td>441.820</td>\n",
       "</tr>\n",
       "<tr>\n",
       "  <th>Sample:</th>                     <td>03-01-1958</td>            <th>  HQIC               </th>  <td>424.975</td>\n",
       "</tr>\n",
       "<tr>\n",
       "  <th></th>                           <td>- 11-01-2017</td>           <th>                     </th>     <td> </td>   \n",
       "</tr>\n",
       "<tr>\n",
       "  <th>Covariance Type:</th>                <td>opg</td>               <th>                     </th>     <td> </td>   \n",
       "</tr>\n",
       "</table>\n",
       "<table class=\"simpletable\">\n",
       "<tr>\n",
       "      <td></td>        <th>coef</th>     <th>std err</th>      <th>z</th>      <th>P>|z|</th>  <th>[0.025</th>    <th>0.975]</th>  \n",
       "</tr>\n",
       "<tr>\n",
       "  <th>ma.L1</th>    <td>   -0.3536</td> <td>    0.036</td> <td>   -9.920</td> <td> 0.000</td> <td>   -0.423</td> <td>   -0.284</td>\n",
       "</tr>\n",
       "<tr>\n",
       "  <th>ma.L2</th>    <td>   -0.0240</td> <td>    0.037</td> <td>   -0.649</td> <td> 0.516</td> <td>   -0.096</td> <td>    0.048</td>\n",
       "</tr>\n",
       "<tr>\n",
       "  <th>ma.L3</th>    <td>   -0.0876</td> <td>    0.030</td> <td>   -2.965</td> <td> 0.003</td> <td>   -0.146</td> <td>   -0.030</td>\n",
       "</tr>\n",
       "<tr>\n",
       "  <th>ar.S.L12</th> <td>    0.9996</td> <td>    0.000</td> <td> 3076.618</td> <td> 0.000</td> <td>    0.999</td> <td>    1.000</td>\n",
       "</tr>\n",
       "<tr>\n",
       "  <th>ma.S.L12</th> <td>   -0.8669</td> <td>    0.022</td> <td>  -38.555</td> <td> 0.000</td> <td>   -0.911</td> <td>   -0.823</td>\n",
       "</tr>\n",
       "<tr>\n",
       "  <th>sigma2</th>   <td>    0.0950</td> <td>    0.005</td> <td>   20.287</td> <td> 0.000</td> <td>    0.086</td> <td>    0.104</td>\n",
       "</tr>\n",
       "</table>\n",
       "<table class=\"simpletable\">\n",
       "<tr>\n",
       "  <th>Ljung-Box (L1) (Q):</th>     <td>0.08</td> <th>  Jarque-Bera (JB):  </th> <td>4.36</td>\n",
       "</tr>\n",
       "<tr>\n",
       "  <th>Prob(Q):</th>                <td>0.77</td> <th>  Prob(JB):          </th> <td>0.11</td>\n",
       "</tr>\n",
       "<tr>\n",
       "  <th>Heteroskedasticity (H):</th> <td>1.15</td> <th>  Skew:              </th> <td>0.02</td>\n",
       "</tr>\n",
       "<tr>\n",
       "  <th>Prob(H) (two-sided):</th>    <td>0.28</td> <th>  Kurtosis:          </th> <td>3.38</td>\n",
       "</tr>\n",
       "</table><br/><br/>Warnings:<br/>[1] Covariance matrix calculated using the outer product of gradients (complex-step)."
      ],
      "text/plain": [
       "<class 'statsmodels.iolib.summary.Summary'>\n",
       "\"\"\"\n",
       "                                      SARIMAX Results                                       \n",
       "============================================================================================\n",
       "Dep. Variable:                         interpolated   No. Observations:                  717\n",
       "Model:             SARIMAX(0, 1, 3)x(1, 0, [1], 12)   Log Likelihood                -201.189\n",
       "Date:                              Thu, 27 Jan 2022   AIC                            414.378\n",
       "Time:                                      15:07:50   BIC                            441.820\n",
       "Sample:                                  03-01-1958   HQIC                           424.975\n",
       "                                       - 11-01-2017                                         \n",
       "Covariance Type:                                opg                                         \n",
       "==============================================================================\n",
       "                 coef    std err          z      P>|z|      [0.025      0.975]\n",
       "------------------------------------------------------------------------------\n",
       "ma.L1         -0.3536      0.036     -9.920      0.000      -0.423      -0.284\n",
       "ma.L2         -0.0240      0.037     -0.649      0.516      -0.096       0.048\n",
       "ma.L3         -0.0876      0.030     -2.965      0.003      -0.146      -0.030\n",
       "ar.S.L12       0.9996      0.000   3076.618      0.000       0.999       1.000\n",
       "ma.S.L12      -0.8669      0.022    -38.555      0.000      -0.911      -0.823\n",
       "sigma2         0.0950      0.005     20.287      0.000       0.086       0.104\n",
       "===================================================================================\n",
       "Ljung-Box (L1) (Q):                   0.08   Jarque-Bera (JB):                 4.36\n",
       "Prob(Q):                              0.77   Prob(JB):                         0.11\n",
       "Heteroskedasticity (H):               1.15   Skew:                             0.02\n",
       "Prob(H) (two-sided):                  0.28   Kurtosis:                         3.38\n",
       "===================================================================================\n",
       "\n",
       "Warnings:\n",
       "[1] Covariance matrix calculated using the outer product of gradients (complex-step).\n",
       "\"\"\""
      ]
     },
     "execution_count": 42,
     "metadata": {},
     "output_type": "execute_result"
    }
   ],
   "source": [
    "result.summary()"
   ]
  },
  {
   "cell_type": "code",
   "execution_count": null,
   "id": "1b09fb9b",
   "metadata": {},
   "outputs": [],
   "source": [
    "#From above we can check that p-value>0.05 so it is Seasonal series."
   ]
  },
  {
   "cell_type": "code",
   "execution_count": 44,
   "id": "aaf1bc3d",
   "metadata": {},
   "outputs": [],
   "source": [
    "start = len(train)\n",
    "end = len(train)+len(test)-1"
   ]
  },
  {
   "cell_type": "code",
   "execution_count": 45,
   "id": "1ada5da3",
   "metadata": {},
   "outputs": [],
   "source": [
    "predictions = result.predict(start,end,typ='levels').rename('SARIMA Prediction')"
   ]
  },
  {
   "cell_type": "code",
   "execution_count": 46,
   "id": "95cda638",
   "metadata": {},
   "outputs": [
    {
     "data": {
      "text/plain": [
       "2017-12-01    406.609703\n",
       "2018-01-01    407.824572\n",
       "2018-02-01    408.578577\n",
       "2018-03-01    409.483498\n",
       "2018-04-01    411.038772\n",
       "2018-05-01    411.641645\n",
       "2018-06-01    410.862541\n",
       "2018-07-01    409.173199\n",
       "2018-08-01    407.072991\n",
       "2018-09-01    405.622605\n",
       "2018-10-01    405.892276\n",
       "2018-11-01    407.425204\n",
       "Freq: MS, Name: SARIMA Prediction, dtype: float64"
      ]
     },
     "execution_count": 46,
     "metadata": {},
     "output_type": "execute_result"
    }
   ],
   "source": [
    "predictions"
   ]
  },
  {
   "cell_type": "code",
   "execution_count": 47,
   "id": "336a3188",
   "metadata": {},
   "outputs": [
    {
     "data": {
      "text/plain": [
       "<AxesSubplot:xlabel='date'>"
      ]
     },
     "execution_count": 47,
     "metadata": {},
     "output_type": "execute_result"
    },
    {
     "data": {
      "image/png": "[encoded data removed]",
      "text/plain": [
       "<Figure size 576x432 with 1 Axes>"
      ]
     },
     "metadata": {
      "needs_background": "light"
     },
     "output_type": "display_data"
    }
   ],
   "source": [
    "test['interpolated'].plot(legend=True, figsize=(8,6))\n",
    "predictions.plot(legend=True)"
   ]
  },
  {
   "cell_type": "code",
   "execution_count": 48,
   "id": "2590140d",
   "metadata": {},
   "outputs": [],
   "source": [
    "from statsmodels.tools.eval_measures import rmse"
   ]
  },
  {
   "cell_type": "code",
   "execution_count": 49,
   "id": "fc3e6547",
   "metadata": {},
   "outputs": [],
   "source": [
    "error = rmse(test['interpolated'],predictions)"
   ]
  },
  {
   "cell_type": "code",
   "execution_count": 50,
   "id": "4b6955fe",
   "metadata": {},
   "outputs": [
    {
     "data": {
      "text/plain": [
       "0.3576366587203376"
      ]
     },
     "execution_count": 50,
     "metadata": {},
     "output_type": "execute_result"
    }
   ],
   "source": [
    "error"
   ]
  },
  {
   "cell_type": "code",
   "execution_count": 51,
   "id": "1bd6d494",
   "metadata": {},
   "outputs": [
    {
     "data": {
      "text/plain": [
       "408.3333333333333"
      ]
     },
     "execution_count": 51,
     "metadata": {},
     "output_type": "execute_result"
    }
   ],
   "source": [
    "test['interpolated'].mean()"
   ]
  },
  {
   "cell_type": "markdown",
   "id": "3a87f161",
   "metadata": {},
   "source": [
    "# Forecast into the unknown value"
   ]
  },
  {
   "cell_type": "code",
   "execution_count": 53,
   "id": "c994a708",
   "metadata": {},
   "outputs": [],
   "source": [
    "model = SARIMAX(df['interpolated'], order=(0,1,3),seasonal_order=(1,0,1,12) )"
   ]
  },
  {
   "cell_type": "code",
   "execution_count": 54,
   "id": "1e2c6be5",
   "metadata": {},
   "outputs": [],
   "source": [
    "results = model.fit()"
   ]
  },
  {
   "cell_type": "code",
   "execution_count": 56,
   "id": "e3e14cc0",
   "metadata": {},
   "outputs": [],
   "source": [
    "fcast = results.predict(len(df) ,len(df)+11,typ='levels').rename('SARIMA FORECAST')"
   ]
  },
  {
   "cell_type": "code",
   "execution_count": 65,
   "id": "ce6b45ba",
   "metadata": {},
   "outputs": [
    {
     "data": {
      "text/plain": [
       "2018-12-01    409.255203\n",
       "2019-01-01    410.416321\n",
       "2019-02-01    411.058184\n",
       "2019-03-01    411.987686\n",
       "2019-04-01    413.447184\n",
       "2019-05-01    414.103469\n",
       "2019-06-01    413.367621\n",
       "2019-07-01    411.625470\n",
       "2019-08-01    409.577278\n",
       "2019-09-01    408.123935\n",
       "2019-10-01    408.424311\n",
       "2019-11-01    410.023027\n",
       "Freq: MS, Name: SARIMA FORECAST, dtype: float64"
      ]
     },
     "execution_count": 65,
     "metadata": {},
     "output_type": "execute_result"
    }
   ],
   "source": [
    "fcast"
   ]
  },
  {
   "cell_type": "code",
   "execution_count": null,
   "id": "17f08665",
   "metadata": {},
   "outputs": [],
   "source": []
  },
  {
   "cell_type": "code",
   "execution_count": null,
   "id": "a6f98e69",
   "metadata": {},
   "outputs": [],
   "source": []
  },
  {
   "cell_type": "code",
   "execution_count": null,
   "id": "807fce9c",
   "metadata": {},
   "outputs": [],
   "source": []
  },
  {
   "cell_type": "markdown",
   "id": "a8a2d4ca",
   "metadata": {},
   "source": [
    "# Now check Original and forecast value"
   ]
  },
  {
   "cell_type": "code",
   "execution_count": 64,
   "id": "7472a9a3",
   "metadata": {},
   "outputs": [
    {
     "data": {
      "text/plain": [
       "<AxesSubplot:xlabel='date'>"
      ]
     },
     "execution_count": 64,
     "metadata": {},
     "output_type": "execute_result"
    },
    {
     "data": {
      "image/png": "[encoded data removed]",
      "text/plain": [
       "<Figure size 720x432 with 1 Axes>"
      ]
     },
     "metadata": {
      "needs_background": "light"
     },
     "output_type": "display_data"
    }
   ],
   "source": [
    "df['interpolated'].plot(legend=True, figsize=(10,6))\n",
    "fcast.plot(legend=True)"
   ]
  },
  {
   "cell_type": "code",
   "execution_count": null,
   "id": "fbd7678e",
   "metadata": {},
   "outputs": [],
   "source": []
  },
  {
   "cell_type": "code",
   "execution_count": null,
   "id": "3f0ab20d",
   "metadata": {},
   "outputs": [],
   "source": []
  },
  {
   "cell_type": "code",
   "execution_count": null,
   "id": "951c350c",
   "metadata": {},
   "outputs": [],
   "source": []
  },
  {
   "cell_type": "code",
   "execution_count": null,
   "id": "c364fd39",
   "metadata": {},
   "outputs": [],
   "source": []
  },
  {
   "cell_type": "markdown",
   "id": "8cd27f9b",
   "metadata": {},
   "source": [
    "# case-3 Can we use ACF and PACF plot to find order of (p,q)"
   ]
  },
  {
   "cell_type": "raw",
   "id": "dbb7f0d8",
   "metadata": {},
   "source": [
    "#Bellow methods are not necesary"
   ]
  },
  {
   "cell_type": "code",
   "execution_count": 29,
   "id": "314be4de",
   "metadata": {},
   "outputs": [],
   "source": [
    "from statsmodels.graphics.tsaplots import plot_acf,plot_pacf"
   ]
  },
  {
   "cell_type": "code",
   "execution_count": 31,
   "id": "08dca4de",
   "metadata": {},
   "outputs": [
    {
     "data": {
      "image/png": "[encoded data removed]",
      "text/plain": [
       "<Figure size 432x288 with 1 Axes>"
      ]
     },
     "metadata": {
      "needs_background": "light"
     },
     "output_type": "display_data"
    }
   ],
   "source": [
    "plot_acf(df['interpolated'],title='find order of p',lags=40);\n",
    "#p=0"
   ]
  },
  {
   "cell_type": "code",
   "execution_count": 32,
   "id": "e51d4b26",
   "metadata": {},
   "outputs": [
    {
     "data": {
      "image/png": "[encoded data removed]",
      "text/plain": [
       "<Figure size 432x288 with 1 Axes>"
      ]
     },
     "metadata": {
      "needs_background": "light"
     },
     "output_type": "display_data"
    }
   ],
   "source": [
    "plot_pacf(df['interpolated'],title='find order of q',lags=40);\n",
    "#q=0"
   ]
  },
  {
   "cell_type": "code",
   "execution_count": 36,
   "id": "89376bc6",
   "metadata": {},
   "outputs": [
    {
     "name": "stdout",
     "output_type": "stream",
     "text": [
      "Performing stepwise search to minimize aic\n",
      " ARIMA(1,1,1)(0,0,0)[0] intercept   : AIC=1785.006, Time=0.26 sec\n",
      " ARIMA(0,1,0)(0,0,0)[0] intercept   : AIC=2369.532, Time=0.04 sec\n",
      " ARIMA(1,1,0)(0,0,0)[0] intercept   : AIC=1880.794, Time=0.19 sec\n",
      " ARIMA(0,1,1)(0,0,0)[0] intercept   : AIC=1935.623, Time=0.21 sec\n",
      " ARIMA(0,1,0)(0,0,0)[0]             : AIC=2375.248, Time=0.04 sec\n",
      " ARIMA(2,1,1)(0,0,0)[0] intercept   : AIC=1440.128, Time=0.62 sec\n",
      " ARIMA(2,1,0)(0,0,0)[0] intercept   : AIC=1684.115, Time=0.23 sec\n",
      " ARIMA(3,1,1)(0,0,0)[0] intercept   : AIC=1441.136, Time=1.24 sec\n",
      " ARIMA(2,1,2)(0,0,0)[0] intercept   : AIC=1440.918, Time=0.82 sec\n",
      " ARIMA(1,1,2)(0,0,0)[0] intercept   : AIC=1715.503, Time=0.34 sec\n",
      " ARIMA(3,1,0)(0,0,0)[0] intercept   : AIC=1608.681, Time=0.21 sec\n",
      " ARIMA(3,1,2)(0,0,0)[0] intercept   : AIC=1442.523, Time=1.68 sec\n",
      " ARIMA(2,1,1)(0,0,0)[0]             : AIC=1532.865, Time=0.21 sec\n",
      "\n",
      "Best model:  ARIMA(2,1,1)(0,0,0)[0] intercept\n",
      "Total fit time: 6.112 seconds\n"
     ]
    }
   ],
   "source": [
    "stepwise_fit = auto_arima(df['interpolated'], start_p=1, start_q=1,\n",
    "                          max_p=3, max_q=3, m=12,\n",
    "                          seasonal=False,\n",
    "                          trace=True)"
   ]
  },
  {
   "cell_type": "code",
   "execution_count": 37,
   "id": "2ab442fb",
   "metadata": {},
   "outputs": [
    {
     "data": {
      "text/html": [
       "<table class=\"simpletable\">\n",
       "<caption>SARIMAX Results</caption>\n",
       "<tr>\n",
       "  <th>Dep. Variable:</th>           <td>y</td>        <th>  No. Observations:  </th>    <td>729</td>  \n",
       "</tr>\n",
       "<tr>\n",
       "  <th>Model:</th>           <td>SARIMAX(2, 1, 1)</td> <th>  Log Likelihood     </th> <td>-715.064</td>\n",
       "</tr>\n",
       "<tr>\n",
       "  <th>Date:</th>            <td>Thu, 27 Jan 2022</td> <th>  AIC                </th> <td>1440.128</td>\n",
       "</tr>\n",
       "<tr>\n",
       "  <th>Time:</th>                <td>14:53:59</td>     <th>  BIC                </th> <td>1463.079</td>\n",
       "</tr>\n",
       "<tr>\n",
       "  <th>Sample:</th>                  <td>0</td>        <th>  HQIC               </th> <td>1448.984</td>\n",
       "</tr>\n",
       "<tr>\n",
       "  <th></th>                      <td> - 729</td>      <th>                     </th>     <td> </td>   \n",
       "</tr>\n",
       "<tr>\n",
       "  <th>Covariance Type:</th>        <td>opg</td>       <th>                     </th>     <td> </td>   \n",
       "</tr>\n",
       "</table>\n",
       "<table class=\"simpletable\">\n",
       "<tr>\n",
       "      <td></td>         <th>coef</th>     <th>std err</th>      <th>z</th>      <th>P>|z|</th>  <th>[0.025</th>    <th>0.975]</th>  \n",
       "</tr>\n",
       "<tr>\n",
       "  <th>intercept</th> <td>    0.0395</td> <td>    0.003</td> <td>   11.810</td> <td> 0.000</td> <td>    0.033</td> <td>    0.046</td>\n",
       "</tr>\n",
       "<tr>\n",
       "  <th>ar.L1</th>     <td>    1.5468</td> <td>    0.022</td> <td>   70.815</td> <td> 0.000</td> <td>    1.504</td> <td>    1.590</td>\n",
       "</tr>\n",
       "<tr>\n",
       "  <th>ar.L2</th>     <td>   -0.8502</td> <td>    0.023</td> <td>  -36.917</td> <td> 0.000</td> <td>   -0.895</td> <td>   -0.805</td>\n",
       "</tr>\n",
       "<tr>\n",
       "  <th>ma.L1</th>     <td>   -0.9012</td> <td>    0.018</td> <td>  -49.926</td> <td> 0.000</td> <td>   -0.937</td> <td>   -0.866</td>\n",
       "</tr>\n",
       "<tr>\n",
       "  <th>sigma2</th>    <td>    0.4158</td> <td>    0.021</td> <td>   19.426</td> <td> 0.000</td> <td>    0.374</td> <td>    0.458</td>\n",
       "</tr>\n",
       "</table>\n",
       "<table class=\"simpletable\">\n",
       "<tr>\n",
       "  <th>Ljung-Box (L1) (Q):</th>     <td>0.82</td> <th>  Jarque-Bera (JB):  </th> <td>34.52</td>\n",
       "</tr>\n",
       "<tr>\n",
       "  <th>Prob(Q):</th>                <td>0.36</td> <th>  Prob(JB):          </th> <td>0.00</td> \n",
       "</tr>\n",
       "<tr>\n",
       "  <th>Heteroskedasticity (H):</th> <td>1.23</td> <th>  Skew:              </th> <td>0.48</td> \n",
       "</tr>\n",
       "<tr>\n",
       "  <th>Prob(H) (two-sided):</th>    <td>0.11</td> <th>  Kurtosis:          </th> <td>3.44</td> \n",
       "</tr>\n",
       "</table><br/><br/>Warnings:<br/>[1] Covariance matrix calculated using the outer product of gradients (complex-step)."
      ],
      "text/plain": [
       "<class 'statsmodels.iolib.summary.Summary'>\n",
       "\"\"\"\n",
       "                               SARIMAX Results                                \n",
       "==============================================================================\n",
       "Dep. Variable:                      y   No. Observations:                  729\n",
       "Model:               SARIMAX(2, 1, 1)   Log Likelihood                -715.064\n",
       "Date:                Thu, 27 Jan 2022   AIC                           1440.128\n",
       "Time:                        14:53:59   BIC                           1463.079\n",
       "Sample:                             0   HQIC                          1448.984\n",
       "                                - 729                                         \n",
       "Covariance Type:                  opg                                         \n",
       "==============================================================================\n",
       "                 coef    std err          z      P>|z|      [0.025      0.975]\n",
       "------------------------------------------------------------------------------\n",
       "intercept      0.0395      0.003     11.810      0.000       0.033       0.046\n",
       "ar.L1          1.5468      0.022     70.815      0.000       1.504       1.590\n",
       "ar.L2         -0.8502      0.023    -36.917      0.000      -0.895      -0.805\n",
       "ma.L1         -0.9012      0.018    -49.926      0.000      -0.937      -0.866\n",
       "sigma2         0.4158      0.021     19.426      0.000       0.374       0.458\n",
       "===================================================================================\n",
       "Ljung-Box (L1) (Q):                   0.82   Jarque-Bera (JB):                34.52\n",
       "Prob(Q):                              0.36   Prob(JB):                         0.00\n",
       "Heteroskedasticity (H):               1.23   Skew:                             0.48\n",
       "Prob(H) (two-sided):                  0.11   Kurtosis:                         3.44\n",
       "===================================================================================\n",
       "\n",
       "Warnings:\n",
       "[1] Covariance matrix calculated using the outer product of gradients (complex-step).\n",
       "\"\"\""
      ]
     },
     "execution_count": 37,
     "metadata": {},
     "output_type": "execute_result"
    }
   ],
   "source": [
    "stepwise_fit.summary()"
   ]
  },
  {
   "cell_type": "code",
   "execution_count": null,
   "id": "1d8f5d25",
   "metadata": {},
   "outputs": [],
   "source": []
  },
  {
   "cell_type": "code",
   "execution_count": null,
   "id": "2202e775",
   "metadata": {},
   "outputs": [],
   "source": []
  },
  {
   "cell_type": "code",
   "execution_count": null,
   "id": "2d60bf79",
   "metadata": {},
   "outputs": [],
   "source": []
  }
 ],
 "metadata": {
  "kernelspec": {
   "display_name": "Python 3 (ipykernel)",
   "language": "python",
   "name": "python3"
  },
  "language_info": {
   "codemirror_mode": {
    "name": "ipython",
    "version": 3
   },
   "file_extension": ".py",
   "mimetype": "text/x-python",
   "name": "python",
   "nbconvert_exporter": "python",
   "pygments_lexer": "ipython3",
   "version": "3.9.5"
  }
 },
 "nbformat": 4,
 "nbformat_minor": 5
}
